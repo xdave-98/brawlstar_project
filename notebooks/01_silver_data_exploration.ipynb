{
 "cells": [
  {
   "cell_type": "code",
   "execution_count": 3,
   "id": "9ec79d58",
   "metadata": {},
   "outputs": [],
   "source": [
    "import polars as pl\n",
    "from pathlib import Path"
   ]
  },
  {
   "cell_type": "code",
   "execution_count": 4,
   "id": "71bdabf8",
   "metadata": {},
   "outputs": [],
   "source": [
    "# Set the date for your data partition\n",
    "DATE = \"2025-07-13\"  # Change as needed"
   ]
  },
  {
   "cell_type": "code",
   "execution_count": 5,
   "id": "16a7b18d",
   "metadata": {},
   "outputs": [],
   "source": [
    "player_path = Path(f\"../data/raw/player/{DATE}/player.parquet\")\n",
    "battlelog_path = Path(f\"../data/raw/player/{DATE}/battlelog.parquet\")\n",
    "club_path = Path(f\"../data/raw/club/{DATE}/club.parquet\")\n",
    "club_members_path = Path(f\"../data/raw/club/{DATE}/club_members.parquet\")"
   ]
  },
  {
   "cell_type": "code",
   "execution_count": 6,
   "id": "2279247e",
   "metadata": {},
   "outputs": [],
   "source": [
    "player_df = pl.read_parquet(player_path)\n",
    "battlelog_df = pl.read_parquet(battlelog_path)\n",
    "club_df = pl.read_parquet(club_path)\n",
    "club_members_df = pl.read_parquet(club_members_path)"
   ]
  },
  {
   "cell_type": "code",
   "execution_count": null,
   "id": "fa66ce94",
   "metadata": {},
   "outputs": [
    {
     "data": {
      "text/plain": [
       "Schema([('tag', String),\n",
       "        ('name', String),\n",
       "        ('name_color', String),\n",
       "        ('trophies', Int64),\n",
       "        ('highest_trophies', Int64),\n",
       "        ('exp_level', Int64),\n",
       "        ('exp_points', Int64),\n",
       "        ('three_vs_three_victories', Int64),\n",
       "        ('solo_victories', Int64),\n",
       "        ('duo_victories', Int64),\n",
       "        ('best_robo_rumble_time', Int64),\n",
       "        ('best_time_as_big_brawler', Int64),\n",
       "        ('club_name', String),\n",
       "        ('club_tag', String),\n",
       "        ('total_brawlers', Int64),\n",
       "        ('maxed_brawlers', Int64),\n",
       "        ('total_brawler_trophies', Int64),\n",
       "        ('extracted_at', Datetime(time_unit='us', time_zone=None))])"
      ]
     },
     "execution_count": 8,
     "metadata": {},
     "output_type": "execute_result"
    }
   ],
   "source": [
    "player_df.schema\n",
    "# We can remove name_color, best_robo_rumble_time, best_time_as_big_brawler"
   ]
  },
  {
   "cell_type": "code",
   "execution_count": null,
   "id": "15f8ca91",
   "metadata": {},
   "outputs": [
    {
     "data": {
      "text/plain": [
       "Schema([('battle_time', String),\n",
       "        ('event_mode', String),\n",
       "        ('event_map', String),\n",
       "        ('battle_mode', String),\n",
       "        ('battle_type', String),\n",
       "        ('battle_result', String),\n",
       "        ('battle_duration', Int64),\n",
       "        ('player_tag', String),\n",
       "        ('player_name', String),\n",
       "        ('brawler_name', String),\n",
       "        ('brawler_power', Int64),\n",
       "        ('brawler_trophies', Int64),\n",
       "        ('team_size', Int64),\n",
       "        ('opponent_count', Int64),\n",
       "        ('is_star_player', Boolean),\n",
       "        ('extracted_at', Datetime(time_unit='us', time_zone=None))])"
      ]
     },
     "execution_count": 10,
     "metadata": {},
     "output_type": "execute_result"
    }
   ],
   "source": [
    "battlelog_df.schema\n",
    "# remove game where battle_type = \"friendly\""
   ]
  },
  {
   "cell_type": "code",
   "execution_count": null,
   "id": "1962e628",
   "metadata": {},
   "outputs": [
    {
     "data": {
      "text/html": [
       "<div><style>\n",
       ".dataframe > thead > tr,\n",
       ".dataframe > tbody > tr {\n",
       "  text-align: right;\n",
       "  white-space: pre-wrap;\n",
       "}\n",
       "</style>\n",
       "<small>shape: (5, 16)</small><table border=\"1\" class=\"dataframe\"><thead><tr><th>battle_time</th><th>event_mode</th><th>event_map</th><th>battle_mode</th><th>battle_type</th><th>battle_result</th><th>battle_duration</th><th>player_tag</th><th>player_name</th><th>brawler_name</th><th>brawler_power</th><th>brawler_trophies</th><th>team_size</th><th>opponent_count</th><th>is_star_player</th><th>extracted_at</th></tr><tr><td>str</td><td>str</td><td>str</td><td>str</td><td>str</td><td>str</td><td>i64</td><td>str</td><td>str</td><td>str</td><td>i64</td><td>i64</td><td>i64</td><td>i64</td><td>bool</td><td>datetime[μs]</td></tr></thead><tbody><tr><td>&quot;20250713T061819.000Z&quot;</td><td>&quot;unknown&quot;</td><td>&quot;unknown&quot;</td><td>&quot;hotZone&quot;</td><td>&quot;ranked&quot;</td><td>&quot;defeat&quot;</td><td>102</td><td>&quot;#GQJRYV0JQ&quot;</td><td>&quot;TT•Samu24bs&quot;</td><td>&quot;MORTIS&quot;</td><td>11</td><td>1000</td><td>3</td><td>3</td><td>false</td><td>2025-07-13 15:21:58.011851</td></tr><tr><td>&quot;20250712T195338.000Z&quot;</td><td>&quot;duoShowdown&quot;</td><td>&quot;Waveform&quot;</td><td>&quot;duoShowdown&quot;</td><td>&quot;ranked&quot;</td><td>&quot;unknown&quot;</td><td>0</td><td>&quot;#GQJRYV0JQ&quot;</td><td>&quot;TT•Samu24bs&quot;</td><td>&quot;LILY&quot;</td><td>11</td><td>1123</td><td>2</td><td>8</td><td>false</td><td>2025-07-13 15:21:58.011867</td></tr><tr><td>&quot;20250712T195203.000Z&quot;</td><td>&quot;duoShowdown&quot;</td><td>&quot;Waveform&quot;</td><td>&quot;duoShowdown&quot;</td><td>&quot;ranked&quot;</td><td>&quot;unknown&quot;</td><td>0</td><td>&quot;#GQJRYV0JQ&quot;</td><td>&quot;TT•Samu24bs&quot;</td><td>&quot;LUMI&quot;</td><td>11</td><td>1008</td><td>2</td><td>8</td><td>false</td><td>2025-07-13 15:21:58.011874</td></tr><tr><td>&quot;20250712T194926.000Z&quot;</td><td>&quot;duoShowdown&quot;</td><td>&quot;Waveform&quot;</td><td>&quot;duoShowdown&quot;</td><td>&quot;ranked&quot;</td><td>&quot;unknown&quot;</td><td>0</td><td>&quot;#GQJRYV0JQ&quot;</td><td>&quot;TT•Samu24bs&quot;</td><td>&quot;LUMI&quot;</td><td>11</td><td>1001</td><td>2</td><td>8</td><td>false</td><td>2025-07-13 15:21:58.011879</td></tr><tr><td>&quot;20250712T191751.000Z&quot;</td><td>&quot;unknown&quot;</td><td>&quot;unknown&quot;</td><td>&quot;hotZone&quot;</td><td>&quot;ranked&quot;</td><td>&quot;victory&quot;</td><td>82</td><td>&quot;#GQJRYV0JQ&quot;</td><td>&quot;TT•Samu24bs&quot;</td><td>&quot;TARA&quot;</td><td>11</td><td>1000</td><td>3</td><td>3</td><td>false</td><td>2025-07-13 15:21:58.011883</td></tr></tbody></table></div>"
      ],
      "text/plain": [
       "shape: (5, 16)\n",
       "┌───────────┬───────────┬───────────┬───────────┬───┬───────────┬───────────┬───────────┬──────────┐\n",
       "│ battle_ti ┆ event_mod ┆ event_map ┆ battle_mo ┆ … ┆ team_size ┆ opponent_ ┆ is_star_p ┆ extracte │\n",
       "│ me        ┆ e         ┆ ---       ┆ de        ┆   ┆ ---       ┆ count     ┆ layer     ┆ d_at     │\n",
       "│ ---       ┆ ---       ┆ str       ┆ ---       ┆   ┆ i64       ┆ ---       ┆ ---       ┆ ---      │\n",
       "│ str       ┆ str       ┆           ┆ str       ┆   ┆           ┆ i64       ┆ bool      ┆ datetime │\n",
       "│           ┆           ┆           ┆           ┆   ┆           ┆           ┆           ┆ [μs]     │\n",
       "╞═══════════╪═══════════╪═══════════╪═══════════╪═══╪═══════════╪═══════════╪═══════════╪══════════╡\n",
       "│ 20250713T ┆ unknown   ┆ unknown   ┆ hotZone   ┆ … ┆ 3         ┆ 3         ┆ false     ┆ 2025-07- │\n",
       "│ 061819.00 ┆           ┆           ┆           ┆   ┆           ┆           ┆           ┆ 13 15:21 │\n",
       "│ 0Z        ┆           ┆           ┆           ┆   ┆           ┆           ┆           ┆ :58.0118 │\n",
       "│           ┆           ┆           ┆           ┆   ┆           ┆           ┆           ┆ 51       │\n",
       "│ 20250712T ┆ duoShowdo ┆ Waveform  ┆ duoShowdo ┆ … ┆ 2         ┆ 8         ┆ false     ┆ 2025-07- │\n",
       "│ 195338.00 ┆ wn        ┆           ┆ wn        ┆   ┆           ┆           ┆           ┆ 13 15:21 │\n",
       "│ 0Z        ┆           ┆           ┆           ┆   ┆           ┆           ┆           ┆ :58.0118 │\n",
       "│           ┆           ┆           ┆           ┆   ┆           ┆           ┆           ┆ 67       │\n",
       "│ 20250712T ┆ duoShowdo ┆ Waveform  ┆ duoShowdo ┆ … ┆ 2         ┆ 8         ┆ false     ┆ 2025-07- │\n",
       "│ 195203.00 ┆ wn        ┆           ┆ wn        ┆   ┆           ┆           ┆           ┆ 13 15:21 │\n",
       "│ 0Z        ┆           ┆           ┆           ┆   ┆           ┆           ┆           ┆ :58.0118 │\n",
       "│           ┆           ┆           ┆           ┆   ┆           ┆           ┆           ┆ 74       │\n",
       "│ 20250712T ┆ duoShowdo ┆ Waveform  ┆ duoShowdo ┆ … ┆ 2         ┆ 8         ┆ false     ┆ 2025-07- │\n",
       "│ 194926.00 ┆ wn        ┆           ┆ wn        ┆   ┆           ┆           ┆           ┆ 13 15:21 │\n",
       "│ 0Z        ┆           ┆           ┆           ┆   ┆           ┆           ┆           ┆ :58.0118 │\n",
       "│           ┆           ┆           ┆           ┆   ┆           ┆           ┆           ┆ 79       │\n",
       "│ 20250712T ┆ unknown   ┆ unknown   ┆ hotZone   ┆ … ┆ 3         ┆ 3         ┆ false     ┆ 2025-07- │\n",
       "│ 191751.00 ┆           ┆           ┆           ┆   ┆           ┆           ┆           ┆ 13 15:21 │\n",
       "│ 0Z        ┆           ┆           ┆           ┆   ┆           ┆           ┆           ┆ :58.0118 │\n",
       "│           ┆           ┆           ┆           ┆   ┆           ┆           ┆           ┆ 83       │\n",
       "└───────────┴───────────┴───────────┴───────────┴───┴───────────┴───────────┴───────────┴──────────┘"
      ]
     },
     "execution_count": 11,
     "metadata": {},
     "output_type": "execute_result"
    }
   ],
   "source": [
    "battlelog_df.select(\"event_mode\").head(5)"
   ]
  },
  {
   "cell_type": "code",
   "execution_count": 15,
   "id": "0ff0e1e7",
   "metadata": {},
   "outputs": [
    {
     "data": {
      "text/html": [
       "<div><style>\n",
       ".dataframe > thead > tr,\n",
       ".dataframe > tbody > tr {\n",
       "  text-align: right;\n",
       "  white-space: pre-wrap;\n",
       "}\n",
       "</style>\n",
       "<small>shape: (5, 5)</small><table border=\"1\" class=\"dataframe\"><thead><tr><th>battle_time</th><th>event_mode</th><th>battle_mode</th><th>player_tag</th><th>team_size</th></tr><tr><td>str</td><td>str</td><td>str</td><td>str</td><td>i64</td></tr></thead><tbody><tr><td>&quot;20250713T061819.000Z&quot;</td><td>&quot;unknown&quot;</td><td>&quot;hotZone&quot;</td><td>&quot;#GQJRYV0JQ&quot;</td><td>3</td></tr><tr><td>&quot;20250712T195338.000Z&quot;</td><td>&quot;duoShowdown&quot;</td><td>&quot;duoShowdown&quot;</td><td>&quot;#GQJRYV0JQ&quot;</td><td>2</td></tr><tr><td>&quot;20250712T195203.000Z&quot;</td><td>&quot;duoShowdown&quot;</td><td>&quot;duoShowdown&quot;</td><td>&quot;#GQJRYV0JQ&quot;</td><td>2</td></tr><tr><td>&quot;20250712T194926.000Z&quot;</td><td>&quot;duoShowdown&quot;</td><td>&quot;duoShowdown&quot;</td><td>&quot;#GQJRYV0JQ&quot;</td><td>2</td></tr><tr><td>&quot;20250712T191751.000Z&quot;</td><td>&quot;unknown&quot;</td><td>&quot;hotZone&quot;</td><td>&quot;#GQJRYV0JQ&quot;</td><td>3</td></tr></tbody></table></div>"
      ],
      "text/plain": [
       "shape: (5, 5)\n",
       "┌──────────────────────┬─────────────┬─────────────┬────────────┬───────────┐\n",
       "│ battle_time          ┆ event_mode  ┆ battle_mode ┆ player_tag ┆ team_size │\n",
       "│ ---                  ┆ ---         ┆ ---         ┆ ---        ┆ ---       │\n",
       "│ str                  ┆ str         ┆ str         ┆ str        ┆ i64       │\n",
       "╞══════════════════════╪═════════════╪═════════════╪════════════╪═══════════╡\n",
       "│ 20250713T061819.000Z ┆ unknown     ┆ hotZone     ┆ #GQJRYV0JQ ┆ 3         │\n",
       "│ 20250712T195338.000Z ┆ duoShowdown ┆ duoShowdown ┆ #GQJRYV0JQ ┆ 2         │\n",
       "│ 20250712T195203.000Z ┆ duoShowdown ┆ duoShowdown ┆ #GQJRYV0JQ ┆ 2         │\n",
       "│ 20250712T194926.000Z ┆ duoShowdown ┆ duoShowdown ┆ #GQJRYV0JQ ┆ 2         │\n",
       "│ 20250712T191751.000Z ┆ unknown     ┆ hotZone     ┆ #GQJRYV0JQ ┆ 3         │\n",
       "└──────────────────────┴─────────────┴─────────────┴────────────┴───────────┘"
      ]
     },
     "execution_count": 15,
     "metadata": {},
     "output_type": "execute_result"
    }
   ],
   "source": [
    "battlelog_df.select(\n",
    "    \"battle_time\", \"event_mode\", \"battle_mode\", \"player_tag\", \"team_size\"\n",
    ").head(5)"
   ]
  },
  {
   "cell_type": "code",
   "execution_count": null,
   "id": "2cf168e0",
   "metadata": {},
   "outputs": [
    {
     "data": {
      "text/plain": [
       "Schema([('tag', String),\n",
       "        ('name', String),\n",
       "        ('name_color', String),\n",
       "        ('role', String),\n",
       "        ('trophies', Int64),\n",
       "        ('icon_id', Int64),\n",
       "        ('extracted_at', String)])"
      ]
     },
     "execution_count": 18,
     "metadata": {},
     "output_type": "execute_result"
    }
   ],
   "source": [
    "club_members_df.schema\n",
    "# remove name_color, icone_id"
   ]
  },
  {
   "cell_type": "code",
   "execution_count": 19,
   "id": "5f104bfc",
   "metadata": {},
   "outputs": [
    {
     "data": {
      "text/html": [
       "<div><style>\n",
       ".dataframe > thead > tr,\n",
       ".dataframe > tbody > tr {\n",
       "  text-align: right;\n",
       "  white-space: pre-wrap;\n",
       "}\n",
       "</style>\n",
       "<small>shape: (5, 7)</small><table border=\"1\" class=\"dataframe\"><thead><tr><th>tag</th><th>name</th><th>name_color</th><th>role</th><th>trophies</th><th>icon_id</th><th>extracted_at</th></tr><tr><td>str</td><td>str</td><td>str</td><td>str</td><td>i64</td><td>i64</td><td>str</td></tr></thead><tbody><tr><td>&quot;#RPQJ09GU&quot;</td><td>&quot;Larexさ&quot;</td><td>null</td><td>&quot;vicePresident&quot;</td><td>107584</td><td>28000759</td><td>&quot;2025-07-13T15:21:58.096377&quot;</td></tr><tr><td>&quot;#2VPRUGRPR&quot;</td><td>&quot;WH|Accid🤍&quot;</td><td>null</td><td>&quot;member&quot;</td><td>100048</td><td>28000368</td><td>&quot;2025-07-13T15:21:58.096377&quot;</td></tr><tr><td>&quot;#PYP2YPC2U&quot;</td><td>&quot;YS|ζ͜͡Lonely🥶&quot;</td><td>null</td><td>&quot;member&quot;</td><td>97145</td><td>28000020</td><td>&quot;2025-07-13T15:21:58.096377&quot;</td></tr><tr><td>&quot;#2GLQLRPJ2&quot;</td><td>&quot;NC |Lulu&quot;</td><td>null</td><td>&quot;member&quot;</td><td>95742</td><td>28000402</td><td>&quot;2025-07-13T15:21:58.096377&quot;</td></tr><tr><td>&quot;#PJPPLVRU&quot;</td><td>&quot;Natz🍁&quot;</td><td>null</td><td>&quot;president&quot;</td><td>94656</td><td>28000759</td><td>&quot;2025-07-13T15:21:58.096377&quot;</td></tr></tbody></table></div>"
      ],
      "text/plain": [
       "shape: (5, 7)\n",
       "┌────────────┬──────────────┬────────────┬───────────────┬──────────┬──────────┬───────────────────┐\n",
       "│ tag        ┆ name         ┆ name_color ┆ role          ┆ trophies ┆ icon_id  ┆ extracted_at      │\n",
       "│ ---        ┆ ---          ┆ ---        ┆ ---           ┆ ---      ┆ ---      ┆ ---               │\n",
       "│ str        ┆ str          ┆ str        ┆ str           ┆ i64      ┆ i64      ┆ str               │\n",
       "╞════════════╪══════════════╪════════════╪═══════════════╪══════════╪══════════╪═══════════════════╡\n",
       "│ #RPQJ09GU  ┆ Larexさ      ┆ null       ┆ vicePresident ┆ 107584   ┆ 28000759 ┆ 2025-07-13T15:21: │\n",
       "│            ┆              ┆            ┆               ┆          ┆          ┆ 58.096377         │\n",
       "│ #2VPRUGRPR ┆ WH|Accid🤍   ┆ null       ┆ member        ┆ 100048   ┆ 28000368 ┆ 2025-07-13T15:21: │\n",
       "│            ┆              ┆            ┆               ┆          ┆          ┆ 58.096377         │\n",
       "│ #PYP2YPC2U ┆ YS|ζ͜͡Lonely🥶 ┆ null       ┆ member        ┆ 97145    ┆ 28000020 ┆ 2025-07-13T15:21: │\n",
       "│            ┆              ┆            ┆               ┆          ┆          ┆ 58.096377         │\n",
       "│ #2GLQLRPJ2 ┆ NC |Lulu     ┆ null       ┆ member        ┆ 95742    ┆ 28000402 ┆ 2025-07-13T15:21: │\n",
       "│            ┆              ┆            ┆               ┆          ┆          ┆ 58.096377         │\n",
       "│ #PJPPLVRU  ┆ Natz🍁       ┆ null       ┆ president     ┆ 94656    ┆ 28000759 ┆ 2025-07-13T15:21: │\n",
       "│            ┆              ┆            ┆               ┆          ┆          ┆ 58.096377         │\n",
       "└────────────┴──────────────┴────────────┴───────────────┴──────────┴──────────┴───────────────────┘"
      ]
     },
     "execution_count": 19,
     "metadata": {},
     "output_type": "execute_result"
    }
   ],
   "source": [
    "club_members_df.head()"
   ]
  },
  {
   "cell_type": "code",
   "execution_count": null,
   "id": "9cad34e6",
   "metadata": {},
   "outputs": [],
   "source": []
  }
 ],
 "metadata": {
  "kernelspec": {
   "display_name": ".venv",
   "language": "python",
   "name": "python3"
  },
  "language_info": {
   "codemirror_mode": {
    "name": "ipython",
    "version": 3
   },
   "file_extension": ".py",
   "mimetype": "text/x-python",
   "name": "python",
   "nbconvert_exporter": "python",
   "pygments_lexer": "ipython3",
   "version": "3.12.3"
  }
 },
 "nbformat": 4,
 "nbformat_minor": 5
}
