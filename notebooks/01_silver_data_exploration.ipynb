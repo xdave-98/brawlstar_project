{
 "cells": [
  {
   "cell_type": "code",
   "execution_count": 15,
   "id": "9ec79d58",
   "metadata": {},
   "outputs": [],
   "source": [
    "import polars as pl\n",
    "from pathlib import Path"
   ]
  },
  {
   "cell_type": "code",
   "execution_count": 16,
   "id": "71bdabf8",
   "metadata": {},
   "outputs": [],
   "source": [
    "# Set the date for your data partition\n",
    "DATE = \"2025-07-13\"  # Change as needed"
   ]
  },
  {
   "cell_type": "code",
   "execution_count": 17,
   "id": "16a7b18d",
   "metadata": {},
   "outputs": [],
   "source": [
    "player_path = Path(f\"../data/raw/player/{DATE}/player.parquet\")\n",
    "battlelog_path = Path(f\"../data/raw/player/{DATE}/battlelog.parquet\")\n",
    "club_path = Path(f\"../data/raw/club/{DATE}/club.parquet\")\n",
    "club_members_path = Path(f\"../data/raw/club/{DATE}/club_members.parquet\")"
   ]
  },
  {
   "cell_type": "code",
   "execution_count": 18,
   "id": "2279247e",
   "metadata": {},
   "outputs": [],
   "source": [
    "player_df = pl.read_parquet(player_path)\n",
    "battlelog_df = pl.read_parquet(battlelog_path)\n",
    "club_df = pl.read_parquet(club_path)\n",
    "club_members_df = pl.read_parquet(club_members_path)"
   ]
  },
  {
   "cell_type": "code",
   "execution_count": 19,
   "id": "539bd0a2",
   "metadata": {},
   "outputs": [
    {
     "data": {
      "text/plain": [
       "Schema([('battle_time', String),\n",
       "        ('event_mode', String),\n",
       "        ('event_map', String),\n",
       "        ('battle_mode', String),\n",
       "        ('battle_type', String),\n",
       "        ('battle_result', String),\n",
       "        ('battle_duration', Int64),\n",
       "        ('player_tag', String),\n",
       "        ('player_name', String),\n",
       "        ('brawler_name', String),\n",
       "        ('brawler_power', Int64),\n",
       "        ('brawler_trophies', Int64),\n",
       "        ('team_size', Int64),\n",
       "        ('opponent_count', Int64),\n",
       "        ('is_star_player', Boolean),\n",
       "        ('extracted_at', Datetime(time_unit='us', time_zone=None))])"
      ]
     },
     "execution_count": 19,
     "metadata": {},
     "output_type": "execute_result"
    }
   ],
   "source": [
    "battlelog_df.schema"
   ]
  },
  {
   "cell_type": "code",
   "execution_count": 20,
   "id": "473d9bfe",
   "metadata": {},
   "outputs": [],
   "source": [
    "battlelog_df = battlelog_df.filter(pl.col(\"player_tag\") == \"#G02QL2U2\")"
   ]
  },
  {
   "cell_type": "code",
   "execution_count": 21,
   "id": "f51a3823",
   "metadata": {},
   "outputs": [
    {
     "data": {
      "text/html": [
       "<div><style>\n",
       ".dataframe > thead > tr,\n",
       ".dataframe > tbody > tr {\n",
       "  text-align: right;\n",
       "  white-space: pre-wrap;\n",
       "}\n",
       "</style>\n",
       "<small>shape: (25, 16)</small><table border=\"1\" class=\"dataframe\"><thead><tr><th>battle_time</th><th>event_mode</th><th>event_map</th><th>battle_mode</th><th>battle_type</th><th>battle_result</th><th>battle_duration</th><th>player_tag</th><th>player_name</th><th>brawler_name</th><th>brawler_power</th><th>brawler_trophies</th><th>team_size</th><th>opponent_count</th><th>is_star_player</th><th>extracted_at</th></tr><tr><td>str</td><td>str</td><td>str</td><td>str</td><td>str</td><td>str</td><td>i64</td><td>str</td><td>str</td><td>str</td><td>i64</td><td>i64</td><td>i64</td><td>i64</td><td>bool</td><td>datetime[μs]</td></tr></thead><tbody><tr><td>&quot;20250713T094954.000Z&quot;</td><td>&quot;trioShowdown&quot;</td><td>&quot;Crystal Eye Castle&quot;</td><td>&quot;duoShowdown&quot;</td><td>&quot;ranked&quot;</td><td>&quot;unknown&quot;</td><td>0</td><td>&quot;#G02QL2U2&quot;</td><td>&quot;Chewbee&quot;</td><td>&quot;MANDY&quot;</td><td>11</td><td>1119</td><td>3</td><td>9</td><td>false</td><td>2025-07-13 15:21:58.062766</td></tr><tr><td>&quot;20250713T094650.000Z&quot;</td><td>&quot;trioShowdown&quot;</td><td>&quot;Crystal Eye Castle&quot;</td><td>&quot;duoShowdown&quot;</td><td>&quot;ranked&quot;</td><td>&quot;unknown&quot;</td><td>0</td><td>&quot;#G02QL2U2&quot;</td><td>&quot;Chewbee&quot;</td><td>&quot;MANDY&quot;</td><td>11</td><td>1109</td><td>3</td><td>9</td><td>false</td><td>2025-07-13 15:21:58.062796</td></tr><tr><td>&quot;20250713T094417.000Z&quot;</td><td>&quot;trioShowdown&quot;</td><td>&quot;Crystal Eye Castle&quot;</td><td>&quot;duoShowdown&quot;</td><td>&quot;ranked&quot;</td><td>&quot;unknown&quot;</td><td>0</td><td>&quot;#G02QL2U2&quot;</td><td>&quot;Chewbee&quot;</td><td>&quot;MANDY&quot;</td><td>11</td><td>1099</td><td>3</td><td>9</td><td>false</td><td>2025-07-13 15:21:58.062805</td></tr><tr><td>&quot;20250713T094110.000Z&quot;</td><td>&quot;trioShowdown&quot;</td><td>&quot;Crystal Eye Castle&quot;</td><td>&quot;duoShowdown&quot;</td><td>&quot;ranked&quot;</td><td>&quot;unknown&quot;</td><td>0</td><td>&quot;#G02QL2U2&quot;</td><td>&quot;Chewbee&quot;</td><td>&quot;MANDY&quot;</td><td>11</td><td>1090</td><td>3</td><td>9</td><td>false</td><td>2025-07-13 15:21:58.062813</td></tr><tr><td>&quot;20250713T093555.000Z&quot;</td><td>&quot;trioShowdown&quot;</td><td>&quot;Crystal Eye Castle&quot;</td><td>&quot;duoShowdown&quot;</td><td>&quot;ranked&quot;</td><td>&quot;unknown&quot;</td><td>0</td><td>&quot;#G02QL2U2&quot;</td><td>&quot;Chewbee&quot;</td><td>&quot;PIPER&quot;</td><td>11</td><td>1169</td><td>3</td><td>9</td><td>false</td><td>2025-07-13 15:21:58.062822</td></tr><tr><td>&hellip;</td><td>&hellip;</td><td>&hellip;</td><td>&hellip;</td><td>&hellip;</td><td>&hellip;</td><td>&hellip;</td><td>&hellip;</td><td>&hellip;</td><td>&hellip;</td><td>&hellip;</td><td>&hellip;</td><td>&hellip;</td><td>&hellip;</td><td>&hellip;</td><td>&hellip;</td></tr><tr><td>&quot;20250712T180738.000Z&quot;</td><td>&quot;brawlBall5V5&quot;</td><td>&quot;Stockpile Stadium&quot;</td><td>&quot;brawlBall&quot;</td><td>&quot;ranked&quot;</td><td>&quot;defeat&quot;</td><td>201</td><td>&quot;#G02QL2U2&quot;</td><td>&quot;Chewbee&quot;</td><td>&quot;MANDY&quot;</td><td>11</td><td>1058</td><td>5</td><td>5</td><td>false</td><td>2025-07-13 15:21:58.062972</td></tr><tr><td>&quot;20250712T180338.000Z&quot;</td><td>&quot;brawlBall5V5&quot;</td><td>&quot;Stockpile Stadium&quot;</td><td>&quot;brawlBall&quot;</td><td>&quot;ranked&quot;</td><td>&quot;defeat&quot;</td><td>124</td><td>&quot;#G02QL2U2&quot;</td><td>&quot;Chewbee&quot;</td><td>&quot;MANDY&quot;</td><td>11</td><td>1066</td><td>5</td><td>5</td><td>false</td><td>2025-07-13 15:21:58.062976</td></tr><tr><td>&quot;20250712T180048.000Z&quot;</td><td>&quot;brawlBall5V5&quot;</td><td>&quot;Stockpile Stadium&quot;</td><td>&quot;brawlBall&quot;</td><td>&quot;ranked&quot;</td><td>&quot;victory&quot;</td><td>150</td><td>&quot;#G02QL2U2&quot;</td><td>&quot;Chewbee&quot;</td><td>&quot;MANDY&quot;</td><td>11</td><td>1057</td><td>5</td><td>5</td><td>false</td><td>2025-07-13 15:21:58.062980</td></tr><tr><td>&quot;20250712T175705.000Z&quot;</td><td>&quot;brawlBall5V5&quot;</td><td>&quot;Stockpile Stadium&quot;</td><td>&quot;brawlBall&quot;</td><td>&quot;ranked&quot;</td><td>&quot;victory&quot;</td><td>172</td><td>&quot;#G02QL2U2&quot;</td><td>&quot;Chewbee&quot;</td><td>&quot;MANDY&quot;</td><td>11</td><td>1049</td><td>5</td><td>5</td><td>true</td><td>2025-07-13 15:21:58.062983</td></tr><tr><td>&quot;20250712T175328.000Z&quot;</td><td>&quot;brawlBall5V5&quot;</td><td>&quot;Stockpile Stadium&quot;</td><td>&quot;brawlBall&quot;</td><td>&quot;ranked&quot;</td><td>&quot;defeat&quot;</td><td>150</td><td>&quot;#G02QL2U2&quot;</td><td>&quot;Chewbee&quot;</td><td>&quot;MANDY&quot;</td><td>11</td><td>1057</td><td>5</td><td>5</td><td>false</td><td>2025-07-13 15:21:58.062987</td></tr></tbody></table></div>"
      ],
      "text/plain": [
       "shape: (25, 16)\n",
       "┌───────────┬───────────┬───────────┬───────────┬───┬───────────┬───────────┬───────────┬──────────┐\n",
       "│ battle_ti ┆ event_mod ┆ event_map ┆ battle_mo ┆ … ┆ team_size ┆ opponent_ ┆ is_star_p ┆ extracte │\n",
       "│ me        ┆ e         ┆ ---       ┆ de        ┆   ┆ ---       ┆ count     ┆ layer     ┆ d_at     │\n",
       "│ ---       ┆ ---       ┆ str       ┆ ---       ┆   ┆ i64       ┆ ---       ┆ ---       ┆ ---      │\n",
       "│ str       ┆ str       ┆           ┆ str       ┆   ┆           ┆ i64       ┆ bool      ┆ datetime │\n",
       "│           ┆           ┆           ┆           ┆   ┆           ┆           ┆           ┆ [μs]     │\n",
       "╞═══════════╪═══════════╪═══════════╪═══════════╪═══╪═══════════╪═══════════╪═══════════╪══════════╡\n",
       "│ 20250713T ┆ trioShowd ┆ Crystal   ┆ duoShowdo ┆ … ┆ 3         ┆ 9         ┆ false     ┆ 2025-07- │\n",
       "│ 094954.00 ┆ own       ┆ Eye       ┆ wn        ┆   ┆           ┆           ┆           ┆ 13 15:21 │\n",
       "│ 0Z        ┆           ┆ Castle    ┆           ┆   ┆           ┆           ┆           ┆ :58.0627 │\n",
       "│           ┆           ┆           ┆           ┆   ┆           ┆           ┆           ┆ 66       │\n",
       "│ 20250713T ┆ trioShowd ┆ Crystal   ┆ duoShowdo ┆ … ┆ 3         ┆ 9         ┆ false     ┆ 2025-07- │\n",
       "│ 094650.00 ┆ own       ┆ Eye       ┆ wn        ┆   ┆           ┆           ┆           ┆ 13 15:21 │\n",
       "│ 0Z        ┆           ┆ Castle    ┆           ┆   ┆           ┆           ┆           ┆ :58.0627 │\n",
       "│           ┆           ┆           ┆           ┆   ┆           ┆           ┆           ┆ 96       │\n",
       "│ 20250713T ┆ trioShowd ┆ Crystal   ┆ duoShowdo ┆ … ┆ 3         ┆ 9         ┆ false     ┆ 2025-07- │\n",
       "│ 094417.00 ┆ own       ┆ Eye       ┆ wn        ┆   ┆           ┆           ┆           ┆ 13 15:21 │\n",
       "│ 0Z        ┆           ┆ Castle    ┆           ┆   ┆           ┆           ┆           ┆ :58.0628 │\n",
       "│           ┆           ┆           ┆           ┆   ┆           ┆           ┆           ┆ 05       │\n",
       "│ 20250713T ┆ trioShowd ┆ Crystal   ┆ duoShowdo ┆ … ┆ 3         ┆ 9         ┆ false     ┆ 2025-07- │\n",
       "│ 094110.00 ┆ own       ┆ Eye       ┆ wn        ┆   ┆           ┆           ┆           ┆ 13 15:21 │\n",
       "│ 0Z        ┆           ┆ Castle    ┆           ┆   ┆           ┆           ┆           ┆ :58.0628 │\n",
       "│           ┆           ┆           ┆           ┆   ┆           ┆           ┆           ┆ 13       │\n",
       "│ 20250713T ┆ trioShowd ┆ Crystal   ┆ duoShowdo ┆ … ┆ 3         ┆ 9         ┆ false     ┆ 2025-07- │\n",
       "│ 093555.00 ┆ own       ┆ Eye       ┆ wn        ┆   ┆           ┆           ┆           ┆ 13 15:21 │\n",
       "│ 0Z        ┆           ┆ Castle    ┆           ┆   ┆           ┆           ┆           ┆ :58.0628 │\n",
       "│           ┆           ┆           ┆           ┆   ┆           ┆           ┆           ┆ 22       │\n",
       "│ …         ┆ …         ┆ …         ┆ …         ┆ … ┆ …         ┆ …         ┆ …         ┆ …        │\n",
       "│ 20250712T ┆ brawlBall ┆ Stockpile ┆ brawlBall ┆ … ┆ 5         ┆ 5         ┆ false     ┆ 2025-07- │\n",
       "│ 180738.00 ┆ 5V5       ┆ Stadium   ┆           ┆   ┆           ┆           ┆           ┆ 13 15:21 │\n",
       "│ 0Z        ┆           ┆           ┆           ┆   ┆           ┆           ┆           ┆ :58.0629 │\n",
       "│           ┆           ┆           ┆           ┆   ┆           ┆           ┆           ┆ 72       │\n",
       "│ 20250712T ┆ brawlBall ┆ Stockpile ┆ brawlBall ┆ … ┆ 5         ┆ 5         ┆ false     ┆ 2025-07- │\n",
       "│ 180338.00 ┆ 5V5       ┆ Stadium   ┆           ┆   ┆           ┆           ┆           ┆ 13 15:21 │\n",
       "│ 0Z        ┆           ┆           ┆           ┆   ┆           ┆           ┆           ┆ :58.0629 │\n",
       "│           ┆           ┆           ┆           ┆   ┆           ┆           ┆           ┆ 76       │\n",
       "│ 20250712T ┆ brawlBall ┆ Stockpile ┆ brawlBall ┆ … ┆ 5         ┆ 5         ┆ false     ┆ 2025-07- │\n",
       "│ 180048.00 ┆ 5V5       ┆ Stadium   ┆           ┆   ┆           ┆           ┆           ┆ 13 15:21 │\n",
       "│ 0Z        ┆           ┆           ┆           ┆   ┆           ┆           ┆           ┆ :58.0629 │\n",
       "│           ┆           ┆           ┆           ┆   ┆           ┆           ┆           ┆ 80       │\n",
       "│ 20250712T ┆ brawlBall ┆ Stockpile ┆ brawlBall ┆ … ┆ 5         ┆ 5         ┆ true      ┆ 2025-07- │\n",
       "│ 175705.00 ┆ 5V5       ┆ Stadium   ┆           ┆   ┆           ┆           ┆           ┆ 13 15:21 │\n",
       "│ 0Z        ┆           ┆           ┆           ┆   ┆           ┆           ┆           ┆ :58.0629 │\n",
       "│           ┆           ┆           ┆           ┆   ┆           ┆           ┆           ┆ 83       │\n",
       "│ 20250712T ┆ brawlBall ┆ Stockpile ┆ brawlBall ┆ … ┆ 5         ┆ 5         ┆ false     ┆ 2025-07- │\n",
       "│ 175328.00 ┆ 5V5       ┆ Stadium   ┆           ┆   ┆           ┆           ┆           ┆ 13 15:21 │\n",
       "│ 0Z        ┆           ┆           ┆           ┆   ┆           ┆           ┆           ┆ :58.0629 │\n",
       "│           ┆           ┆           ┆           ┆   ┆           ┆           ┆           ┆ 87       │\n",
       "└───────────┴───────────┴───────────┴───────────┴───┴───────────┴───────────┴───────────┴──────────┘"
      ]
     },
     "metadata": {},
     "output_type": "display_data"
    }
   ],
   "source": [
    "display(battlelog_df)"
   ]
  },
  {
   "cell_type": "code",
   "execution_count": 22,
   "id": "6ed65fb8",
   "metadata": {},
   "outputs": [],
   "source": [
    "battlelog_df_without_unknown = battlelog_df.filter(pl.col(\"battle_result\") != \"unknown\")"
   ]
  },
  {
   "cell_type": "code",
   "execution_count": 23,
   "id": "2e6196e6",
   "metadata": {},
   "outputs": [
    {
     "data": {
      "text/html": [
       "<div><style>\n",
       ".dataframe > thead > tr,\n",
       ".dataframe > tbody > tr {\n",
       "  text-align: right;\n",
       "  white-space: pre-wrap;\n",
       "}\n",
       "</style>\n",
       "<small>shape: (9, 16)</small><table border=\"1\" class=\"dataframe\"><thead><tr><th>battle_time</th><th>event_mode</th><th>event_map</th><th>battle_mode</th><th>battle_type</th><th>battle_result</th><th>battle_duration</th><th>player_tag</th><th>player_name</th><th>brawler_name</th><th>brawler_power</th><th>brawler_trophies</th><th>team_size</th><th>opponent_count</th><th>is_star_player</th><th>extracted_at</th></tr><tr><td>str</td><td>str</td><td>str</td><td>str</td><td>str</td><td>str</td><td>i64</td><td>str</td><td>str</td><td>str</td><td>i64</td><td>i64</td><td>i64</td><td>i64</td><td>bool</td><td>datetime[μs]</td></tr></thead><tbody><tr><td>&quot;20250712T181725.000Z&quot;</td><td>&quot;brawlBall5V5&quot;</td><td>&quot;Stockpile Stadium&quot;</td><td>&quot;brawlBall&quot;</td><td>&quot;ranked&quot;</td><td>&quot;defeat&quot;</td><td>150</td><td>&quot;#G02QL2U2&quot;</td><td>&quot;Chewbee&quot;</td><td>&quot;MANDY&quot;</td><td>11</td><td>1059</td><td>5</td><td>5</td><td>false</td><td>2025-07-13 15:21:58.062953</td></tr><tr><td>&quot;20250712T181417.000Z&quot;</td><td>&quot;brawlBall5V5&quot;</td><td>&quot;Stockpile Stadium&quot;</td><td>&quot;brawlBall&quot;</td><td>&quot;ranked&quot;</td><td>&quot;victory&quot;</td><td>200</td><td>&quot;#G02QL2U2&quot;</td><td>&quot;Chewbee&quot;</td><td>&quot;MANDY&quot;</td><td>11</td><td>1050</td><td>5</td><td>5</td><td>false</td><td>2025-07-13 15:21:58.062957</td></tr><tr><td>&quot;20250712T181023.000Z&quot;</td><td>&quot;brawlBall5V5&quot;</td><td>&quot;Stockpile Stadium&quot;</td><td>&quot;brawlBall&quot;</td><td>&quot;ranked&quot;</td><td>&quot;victory&quot;</td><td>66</td><td>&quot;#G02QL2U2&quot;</td><td>&quot;Chewbee&quot;</td><td>&quot;MANDY&quot;</td><td>11</td><td>1042</td><td>5</td><td>5</td><td>false</td><td>2025-07-13 15:21:58.062964</td></tr><tr><td>&quot;20250712T180850.000Z&quot;</td><td>&quot;brawlBall5V5&quot;</td><td>&quot;Stockpile Stadium&quot;</td><td>&quot;brawlBall&quot;</td><td>&quot;ranked&quot;</td><td>&quot;defeat&quot;</td><td>29</td><td>&quot;#G02QL2U2&quot;</td><td>&quot;Chewbee&quot;</td><td>&quot;MANDY&quot;</td><td>11</td><td>1050</td><td>5</td><td>5</td><td>false</td><td>2025-07-13 15:21:58.062968</td></tr><tr><td>&quot;20250712T180738.000Z&quot;</td><td>&quot;brawlBall5V5&quot;</td><td>&quot;Stockpile Stadium&quot;</td><td>&quot;brawlBall&quot;</td><td>&quot;ranked&quot;</td><td>&quot;defeat&quot;</td><td>201</td><td>&quot;#G02QL2U2&quot;</td><td>&quot;Chewbee&quot;</td><td>&quot;MANDY&quot;</td><td>11</td><td>1058</td><td>5</td><td>5</td><td>false</td><td>2025-07-13 15:21:58.062972</td></tr><tr><td>&quot;20250712T180338.000Z&quot;</td><td>&quot;brawlBall5V5&quot;</td><td>&quot;Stockpile Stadium&quot;</td><td>&quot;brawlBall&quot;</td><td>&quot;ranked&quot;</td><td>&quot;defeat&quot;</td><td>124</td><td>&quot;#G02QL2U2&quot;</td><td>&quot;Chewbee&quot;</td><td>&quot;MANDY&quot;</td><td>11</td><td>1066</td><td>5</td><td>5</td><td>false</td><td>2025-07-13 15:21:58.062976</td></tr><tr><td>&quot;20250712T180048.000Z&quot;</td><td>&quot;brawlBall5V5&quot;</td><td>&quot;Stockpile Stadium&quot;</td><td>&quot;brawlBall&quot;</td><td>&quot;ranked&quot;</td><td>&quot;victory&quot;</td><td>150</td><td>&quot;#G02QL2U2&quot;</td><td>&quot;Chewbee&quot;</td><td>&quot;MANDY&quot;</td><td>11</td><td>1057</td><td>5</td><td>5</td><td>false</td><td>2025-07-13 15:21:58.062980</td></tr><tr><td>&quot;20250712T175705.000Z&quot;</td><td>&quot;brawlBall5V5&quot;</td><td>&quot;Stockpile Stadium&quot;</td><td>&quot;brawlBall&quot;</td><td>&quot;ranked&quot;</td><td>&quot;victory&quot;</td><td>172</td><td>&quot;#G02QL2U2&quot;</td><td>&quot;Chewbee&quot;</td><td>&quot;MANDY&quot;</td><td>11</td><td>1049</td><td>5</td><td>5</td><td>true</td><td>2025-07-13 15:21:58.062983</td></tr><tr><td>&quot;20250712T175328.000Z&quot;</td><td>&quot;brawlBall5V5&quot;</td><td>&quot;Stockpile Stadium&quot;</td><td>&quot;brawlBall&quot;</td><td>&quot;ranked&quot;</td><td>&quot;defeat&quot;</td><td>150</td><td>&quot;#G02QL2U2&quot;</td><td>&quot;Chewbee&quot;</td><td>&quot;MANDY&quot;</td><td>11</td><td>1057</td><td>5</td><td>5</td><td>false</td><td>2025-07-13 15:21:58.062987</td></tr></tbody></table></div>"
      ],
      "text/plain": [
       "shape: (9, 16)\n",
       "┌───────────┬───────────┬───────────┬───────────┬───┬───────────┬───────────┬───────────┬──────────┐\n",
       "│ battle_ti ┆ event_mod ┆ event_map ┆ battle_mo ┆ … ┆ team_size ┆ opponent_ ┆ is_star_p ┆ extracte │\n",
       "│ me        ┆ e         ┆ ---       ┆ de        ┆   ┆ ---       ┆ count     ┆ layer     ┆ d_at     │\n",
       "│ ---       ┆ ---       ┆ str       ┆ ---       ┆   ┆ i64       ┆ ---       ┆ ---       ┆ ---      │\n",
       "│ str       ┆ str       ┆           ┆ str       ┆   ┆           ┆ i64       ┆ bool      ┆ datetime │\n",
       "│           ┆           ┆           ┆           ┆   ┆           ┆           ┆           ┆ [μs]     │\n",
       "╞═══════════╪═══════════╪═══════════╪═══════════╪═══╪═══════════╪═══════════╪═══════════╪══════════╡\n",
       "│ 20250712T ┆ brawlBall ┆ Stockpile ┆ brawlBall ┆ … ┆ 5         ┆ 5         ┆ false     ┆ 2025-07- │\n",
       "│ 181725.00 ┆ 5V5       ┆ Stadium   ┆           ┆   ┆           ┆           ┆           ┆ 13 15:21 │\n",
       "│ 0Z        ┆           ┆           ┆           ┆   ┆           ┆           ┆           ┆ :58.0629 │\n",
       "│           ┆           ┆           ┆           ┆   ┆           ┆           ┆           ┆ 53       │\n",
       "│ 20250712T ┆ brawlBall ┆ Stockpile ┆ brawlBall ┆ … ┆ 5         ┆ 5         ┆ false     ┆ 2025-07- │\n",
       "│ 181417.00 ┆ 5V5       ┆ Stadium   ┆           ┆   ┆           ┆           ┆           ┆ 13 15:21 │\n",
       "│ 0Z        ┆           ┆           ┆           ┆   ┆           ┆           ┆           ┆ :58.0629 │\n",
       "│           ┆           ┆           ┆           ┆   ┆           ┆           ┆           ┆ 57       │\n",
       "│ 20250712T ┆ brawlBall ┆ Stockpile ┆ brawlBall ┆ … ┆ 5         ┆ 5         ┆ false     ┆ 2025-07- │\n",
       "│ 181023.00 ┆ 5V5       ┆ Stadium   ┆           ┆   ┆           ┆           ┆           ┆ 13 15:21 │\n",
       "│ 0Z        ┆           ┆           ┆           ┆   ┆           ┆           ┆           ┆ :58.0629 │\n",
       "│           ┆           ┆           ┆           ┆   ┆           ┆           ┆           ┆ 64       │\n",
       "│ 20250712T ┆ brawlBall ┆ Stockpile ┆ brawlBall ┆ … ┆ 5         ┆ 5         ┆ false     ┆ 2025-07- │\n",
       "│ 180850.00 ┆ 5V5       ┆ Stadium   ┆           ┆   ┆           ┆           ┆           ┆ 13 15:21 │\n",
       "│ 0Z        ┆           ┆           ┆           ┆   ┆           ┆           ┆           ┆ :58.0629 │\n",
       "│           ┆           ┆           ┆           ┆   ┆           ┆           ┆           ┆ 68       │\n",
       "│ 20250712T ┆ brawlBall ┆ Stockpile ┆ brawlBall ┆ … ┆ 5         ┆ 5         ┆ false     ┆ 2025-07- │\n",
       "│ 180738.00 ┆ 5V5       ┆ Stadium   ┆           ┆   ┆           ┆           ┆           ┆ 13 15:21 │\n",
       "│ 0Z        ┆           ┆           ┆           ┆   ┆           ┆           ┆           ┆ :58.0629 │\n",
       "│           ┆           ┆           ┆           ┆   ┆           ┆           ┆           ┆ 72       │\n",
       "│ 20250712T ┆ brawlBall ┆ Stockpile ┆ brawlBall ┆ … ┆ 5         ┆ 5         ┆ false     ┆ 2025-07- │\n",
       "│ 180338.00 ┆ 5V5       ┆ Stadium   ┆           ┆   ┆           ┆           ┆           ┆ 13 15:21 │\n",
       "│ 0Z        ┆           ┆           ┆           ┆   ┆           ┆           ┆           ┆ :58.0629 │\n",
       "│           ┆           ┆           ┆           ┆   ┆           ┆           ┆           ┆ 76       │\n",
       "│ 20250712T ┆ brawlBall ┆ Stockpile ┆ brawlBall ┆ … ┆ 5         ┆ 5         ┆ false     ┆ 2025-07- │\n",
       "│ 180048.00 ┆ 5V5       ┆ Stadium   ┆           ┆   ┆           ┆           ┆           ┆ 13 15:21 │\n",
       "│ 0Z        ┆           ┆           ┆           ┆   ┆           ┆           ┆           ┆ :58.0629 │\n",
       "│           ┆           ┆           ┆           ┆   ┆           ┆           ┆           ┆ 80       │\n",
       "│ 20250712T ┆ brawlBall ┆ Stockpile ┆ brawlBall ┆ … ┆ 5         ┆ 5         ┆ true      ┆ 2025-07- │\n",
       "│ 175705.00 ┆ 5V5       ┆ Stadium   ┆           ┆   ┆           ┆           ┆           ┆ 13 15:21 │\n",
       "│ 0Z        ┆           ┆           ┆           ┆   ┆           ┆           ┆           ┆ :58.0629 │\n",
       "│           ┆           ┆           ┆           ┆   ┆           ┆           ┆           ┆ 83       │\n",
       "│ 20250712T ┆ brawlBall ┆ Stockpile ┆ brawlBall ┆ … ┆ 5         ┆ 5         ┆ false     ┆ 2025-07- │\n",
       "│ 175328.00 ┆ 5V5       ┆ Stadium   ┆           ┆   ┆           ┆           ┆           ┆ 13 15:21 │\n",
       "│ 0Z        ┆           ┆           ┆           ┆   ┆           ┆           ┆           ┆ :58.0629 │\n",
       "│           ┆           ┆           ┆           ┆   ┆           ┆           ┆           ┆ 87       │\n",
       "└───────────┴───────────┴───────────┴───────────┴───┴───────────┴───────────┴───────────┴──────────┘"
      ]
     },
     "metadata": {},
     "output_type": "display_data"
    }
   ],
   "source": [
    "display(battlelog_df_without_unknown)"
   ]
  }
 ],
 "metadata": {
  "kernelspec": {
   "display_name": ".venv",
   "language": "python",
   "name": "python3"
  },
  "language_info": {
   "codemirror_mode": {
    "name": "ipython",
    "version": 3
   },
   "file_extension": ".py",
   "mimetype": "text/x-python",
   "name": "python",
   "nbconvert_exporter": "python",
   "pygments_lexer": "ipython3",
   "version": "3.12.3"
  }
 },
 "nbformat": 4,
 "nbformat_minor": 5
}
