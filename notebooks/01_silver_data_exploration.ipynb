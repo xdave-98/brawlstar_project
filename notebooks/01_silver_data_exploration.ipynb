{
 "cells": [
  {
   "cell_type": "code",
   "execution_count": 1,
   "id": "16a7b18d",
   "metadata": {},
   "outputs": [],
   "source": [
    "import polars as pl\n",
    "from pathlib import Path\n",
    "\n",
    "# Set the date for your data partition\n",
    "DATE = '2025-07-13'  # Change as needed\n",
    "\n",
    "player_path = Path(f'../data/raw/player/{DATE}/player.parquet')\n",
    "battlelog_path = Path(f'../data/raw/player/{DATE}/battlelog.parquet')\n",
    "club_path = Path(f'../data/raw/club/{DATE}/club.parquet')\n",
    "club_members_path = Path(f'../data/raw/club/{DATE}/club_members.parquet')\n",
    "\n",
    "player_df = pl.read_parquet(player_path)\n",
    "battlelog_df = pl.read_parquet(battlelog_path)\n",
    "club_df = pl.read_parquet(club_path)\n",
    "club_members_df = pl.read_parquet(club_members_path)"
   ]
  },
  {
   "cell_type": "code",
   "execution_count": 2,
   "id": "2279247e",
   "metadata": {},
   "outputs": [
    {
     "data": {
      "text/html": [
       "<div><style>\n",
       ".dataframe > thead > tr,\n",
       ".dataframe > tbody > tr {\n",
       "  text-align: right;\n",
       "  white-space: pre-wrap;\n",
       "}\n",
       "</style>\n",
       "<small>shape: (5, 18)</small><table border=\"1\" class=\"dataframe\"><thead><tr><th>tag</th><th>name</th><th>name_color</th><th>trophies</th><th>highest_trophies</th><th>exp_level</th><th>exp_points</th><th>three_vs_three_victories</th><th>solo_victories</th><th>duo_victories</th><th>best_robo_rumble_time</th><th>best_time_as_big_brawler</th><th>club_name</th><th>club_tag</th><th>total_brawlers</th><th>maxed_brawlers</th><th>total_brawler_trophies</th><th>extracted_at</th></tr><tr><td>str</td><td>str</td><td>str</td><td>i64</td><td>i64</td><td>i64</td><td>i64</td><td>i64</td><td>i64</td><td>i64</td><td>i64</td><td>i64</td><td>str</td><td>str</td><td>i64</td><td>i64</td><td>i64</td><td>datetime[μs]</td></tr></thead><tbody><tr><td>&quot;#GQJRYV0JQ&quot;</td><td>&quot;TT•Samu24bs&quot;</td><td>&quot;0xffff9727&quot;</td><td>74292</td><td>74309</td><td>214</td><td>236110</td><td>0</td><td>0</td><td>0</td><td>0</td><td>0</td><td>&quot;Natz Army🇫🇷&quot;</td><td>&quot;#80Y22P29J&quot;</td><td>93</td><td>46</td><td>74292</td><td>2025-07-13 15:21:57.887729</td></tr><tr><td>&quot;#9QUU8P8RG&quot;</td><td>&quot;𝔑𝔱𝔥_𝟗𝟒&quot;</td><td>&quot;0xffa2e3fe&quot;</td><td>93240</td><td>93249</td><td>273</td><td>381659</td><td>0</td><td>0</td><td>0</td><td>0</td><td>0</td><td>&quot;Natz Army🇫🇷&quot;</td><td>&quot;#80Y22P29J&quot;</td><td>93</td><td>93</td><td>93240</td><td>2025-07-13 15:21:57.910069</td></tr><tr><td>&quot;#LUCUGYQLP&quot;</td><td>&quot;cornichonette&quot;</td><td>&quot;0xfff05637&quot;</td><td>80334</td><td>82139</td><td>222</td><td>251959</td><td>0</td><td>0</td><td>0</td><td>0</td><td>0</td><td>&quot;Natz Army🇫🇷&quot;</td><td>&quot;#80Y22P29J&quot;</td><td>93</td><td>45</td><td>80334</td><td>2025-07-13 15:21:57.911065</td></tr><tr><td>&quot;#PYP2YPC2U&quot;</td><td>&quot;YS|ζ͜͡Lonely🥶&quot;</td><td>&quot;0xffff9727&quot;</td><td>97145</td><td>97145</td><td>286</td><td>418881</td><td>0</td><td>0</td><td>0</td><td>0</td><td>0</td><td>&quot;Natz Army🇫🇷&quot;</td><td>&quot;#80Y22P29J&quot;</td><td>93</td><td>55</td><td>97145</td><td>2025-07-13 15:21:57.912213</td></tr><tr><td>&quot;#CJYGRUJ9&quot;</td><td>&quot;🦋🥀ℇᵂ𝓐ᮘⁿ🥀🦋&quot;</td><td>&quot;0xffff9727&quot;</td><td>93450</td><td>94849</td><td>223</td><td>254750</td><td>0</td><td>0</td><td>0</td><td>0</td><td>0</td><td>&quot;Strive 4 Glory&quot;</td><td>&quot;#2URUUQGLC&quot;</td><td>93</td><td>45</td><td>93450</td><td>2025-07-13 15:21:57.913593</td></tr></tbody></table></div>"
      ],
      "text/plain": [
       "shape: (5, 18)\n",
       "┌───────────┬───────────┬───────────┬──────────┬───┬───────────┬───────────┬───────────┬───────────┐\n",
       "│ tag       ┆ name      ┆ name_colo ┆ trophies ┆ … ┆ total_bra ┆ maxed_bra ┆ total_bra ┆ extracted │\n",
       "│ ---       ┆ ---       ┆ r         ┆ ---      ┆   ┆ wlers     ┆ wlers     ┆ wler_trop ┆ _at       │\n",
       "│ str       ┆ str       ┆ ---       ┆ i64      ┆   ┆ ---       ┆ ---       ┆ hies      ┆ ---       │\n",
       "│           ┆           ┆ str       ┆          ┆   ┆ i64       ┆ i64       ┆ ---       ┆ datetime[ │\n",
       "│           ┆           ┆           ┆          ┆   ┆           ┆           ┆ i64       ┆ μs]       │\n",
       "╞═══════════╪═══════════╪═══════════╪══════════╪═══╪═══════════╪═══════════╪═══════════╪═══════════╡\n",
       "│ #GQJRYV0J ┆ TT•Samu24 ┆ 0xffff972 ┆ 74292    ┆ … ┆ 93        ┆ 46        ┆ 74292     ┆ 2025-07-1 │\n",
       "│ Q         ┆ bs        ┆ 7         ┆          ┆   ┆           ┆           ┆           ┆ 3 15:21:5 │\n",
       "│           ┆           ┆           ┆          ┆   ┆           ┆           ┆           ┆ 7.887729  │\n",
       "│ #9QUU8P8R ┆ 𝔑𝔱𝔥_𝟗𝟒    ┆ 0xffa2e3f ┆ 93240    ┆ … ┆ 93        ┆ 93        ┆ 93240     ┆ 2025-07-1 │\n",
       "│ G         ┆           ┆ e         ┆          ┆   ┆           ┆           ┆           ┆ 3 15:21:5 │\n",
       "│           ┆           ┆           ┆          ┆   ┆           ┆           ┆           ┆ 7.910069  │\n",
       "│ #LUCUGYQL ┆ cornichon ┆ 0xfff0563 ┆ 80334    ┆ … ┆ 93        ┆ 45        ┆ 80334     ┆ 2025-07-1 │\n",
       "│ P         ┆ ette      ┆ 7         ┆          ┆   ┆           ┆           ┆           ┆ 3 15:21:5 │\n",
       "│           ┆           ┆           ┆          ┆   ┆           ┆           ┆           ┆ 7.911065  │\n",
       "│ #PYP2YPC2 ┆ YS|ζ͜͡Lonel ┆ 0xffff972 ┆ 97145    ┆ … ┆ 93        ┆ 55        ┆ 97145     ┆ 2025-07-1 │\n",
       "│ U         ┆ y🥶       ┆ 7         ┆          ┆   ┆           ┆           ┆           ┆ 3 15:21:5 │\n",
       "│           ┆           ┆           ┆          ┆   ┆           ┆           ┆           ┆ 7.912213  │\n",
       "│ #CJYGRUJ9 ┆ 🦋🥀ℇᵂ𝓐ᮘⁿ ┆ 0xffff972 ┆ 93450    ┆ … ┆ 93        ┆ 45        ┆ 93450     ┆ 2025-07-1 │\n",
       "│           ┆ 🥀🦋      ┆ 7         ┆          ┆   ┆           ┆           ┆           ┆ 3 15:21:5 │\n",
       "│           ┆           ┆           ┆          ┆   ┆           ┆           ┆           ┆ 7.913593  │\n",
       "└───────────┴───────────┴───────────┴──────────┴───┴───────────┴───────────┴───────────┴───────────┘"
      ]
     },
     "execution_count": 2,
     "metadata": {},
     "output_type": "execute_result"
    }
   ],
   "source": [
    "player_df.head(5)"
   ]
  }
 ],
 "metadata": {
  "kernelspec": {
   "display_name": ".venv",
   "language": "python",
   "name": "python3"
  },
  "language_info": {
   "codemirror_mode": {
    "name": "ipython",
    "version": 3
   },
   "file_extension": ".py",
   "mimetype": "text/x-python",
   "name": "python",
   "nbconvert_exporter": "python",
   "pygments_lexer": "ipython3",
   "version": "3.12.3"
  }
 },
 "nbformat": 4,
 "nbformat_minor": 5
}
