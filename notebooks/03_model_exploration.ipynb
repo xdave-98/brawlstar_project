{
 "cells": [
  {
   "cell_type": "code",
   "execution_count": 8,
   "id": "9ec79d58",
   "metadata": {},
   "outputs": [],
   "source": [
    "import polars as pl\n",
    "from pathlib import Path"
   ]
  },
  {
   "cell_type": "code",
   "execution_count": 9,
   "id": "71bdabf8",
   "metadata": {},
   "outputs": [],
   "source": [
    "# Set the date for your data partition\n",
    "DATE = \"2025-07-13\"  # Change as needed"
   ]
  },
  {
   "cell_type": "code",
   "execution_count": 10,
   "id": "16a7b18d",
   "metadata": {},
   "outputs": [],
   "source": [
    "dim_clubs_path = Path(f\"../data/cleaned/dim_clubs/{DATE}/dim_clubs.parquet\")\n",
    "dim_game_modes_path = Path(f\"../data/cleaned/dim_game_modes/{DATE}/dim_game_modes.parquet\")\n",
    "dim_maps_path = Path(f\"../data/cleaned/dim_maps/{DATE}/dim_maps.parquet\")\n",
    "dim_players_path = Path(f\"../data/cleaned/dim_players/{DATE}/dim_players.parquet\")\n",
    "fact_matches_path = Path(f\"../data/cleaned/fact_matches/{DATE}/fact_matches.parquet\")"
   ]
  },
  {
   "cell_type": "code",
   "execution_count": 11,
   "id": "2279247e",
   "metadata": {},
   "outputs": [],
   "source": [
    "dim_club_df = pl.read_parquet(dim_clubs_path)\n",
    "dim_game_modes_df = pl.read_parquet(dim_game_modes_path)\n",
    "dim_maps_df = pl.read_parquet(dim_maps_path)\n",
    "dim_players_df = pl.read_parquet(dim_players_path)\n",
    "fact_matches_df = pl.read_parquet(fact_matches_path)"
   ]
  },
  {
   "cell_type": "code",
   "execution_count": 12,
   "id": "9102d6e2",
   "metadata": {},
   "outputs": [
    {
     "data": {
      "text/html": [
       "<div><style>\n",
       ".dataframe > thead > tr,\n",
       ".dataframe > tbody > tr {\n",
       "  text-align: right;\n",
       "  white-space: pre-wrap;\n",
       "}\n",
       "</style>\n",
       "<small>shape: (5, 7)</small><table border=\"1\" class=\"dataframe\"><thead><tr><th>match_id</th><th>battle_time</th><th>player_tag</th><th>club_tag</th><th>map_name</th><th>battle_mode</th><th>battle_result</th></tr><tr><td>str</td><td>str</td><td>str</td><td>str</td><td>str</td><td>str</td><td>str</td></tr></thead><tbody><tr><td>&quot;GQJRYV0JQ_20250713T061819.000Z…</td><td>&quot;20250713T061819.000Z&quot;</td><td>&quot;#GQJRYV0JQ&quot;</td><td>&quot;#80Y22P29J&quot;</td><td>&quot;unknown&quot;</td><td>&quot;hotZone&quot;</td><td>&quot;defeat&quot;</td></tr><tr><td>&quot;GQJRYV0JQ_20250712T191751.000Z…</td><td>&quot;20250712T191751.000Z&quot;</td><td>&quot;#GQJRYV0JQ&quot;</td><td>&quot;#80Y22P29J&quot;</td><td>&quot;unknown&quot;</td><td>&quot;hotZone&quot;</td><td>&quot;victory&quot;</td></tr><tr><td>&quot;GQJRYV0JQ_20250712T191544.000Z…</td><td>&quot;20250712T191544.000Z&quot;</td><td>&quot;#GQJRYV0JQ&quot;</td><td>&quot;#80Y22P29J&quot;</td><td>&quot;unknown&quot;</td><td>&quot;hotZone&quot;</td><td>&quot;victory&quot;</td></tr><tr><td>&quot;GQJRYV0JQ_20250712T190858.000Z…</td><td>&quot;20250712T190858.000Z&quot;</td><td>&quot;#GQJRYV0JQ&quot;</td><td>&quot;#80Y22P29J&quot;</td><td>&quot;unknown&quot;</td><td>&quot;hotZone&quot;</td><td>&quot;defeat&quot;</td></tr><tr><td>&quot;GQJRYV0JQ_20250712T190328.000Z…</td><td>&quot;20250712T190328.000Z&quot;</td><td>&quot;#GQJRYV0JQ&quot;</td><td>&quot;#80Y22P29J&quot;</td><td>&quot;unknown&quot;</td><td>&quot;hotZone&quot;</td><td>&quot;victory&quot;</td></tr></tbody></table></div>"
      ],
      "text/plain": [
       "shape: (5, 7)\n",
       "┌───────────────┬───────────────┬────────────┬────────────┬──────────┬─────────────┬───────────────┐\n",
       "│ match_id      ┆ battle_time   ┆ player_tag ┆ club_tag   ┆ map_name ┆ battle_mode ┆ battle_result │\n",
       "│ ---           ┆ ---           ┆ ---        ┆ ---        ┆ ---      ┆ ---         ┆ ---           │\n",
       "│ str           ┆ str           ┆ str        ┆ str        ┆ str      ┆ str         ┆ str           │\n",
       "╞═══════════════╪═══════════════╪════════════╪════════════╪══════════╪═════════════╪═══════════════╡\n",
       "│ GQJRYV0JQ_202 ┆ 20250713T0618 ┆ #GQJRYV0JQ ┆ #80Y22P29J ┆ unknown  ┆ hotZone     ┆ defeat        │\n",
       "│ 50713T061819. ┆ 19.000Z       ┆            ┆            ┆          ┆             ┆               │\n",
       "│ 000Z…         ┆               ┆            ┆            ┆          ┆             ┆               │\n",
       "│ GQJRYV0JQ_202 ┆ 20250712T1917 ┆ #GQJRYV0JQ ┆ #80Y22P29J ┆ unknown  ┆ hotZone     ┆ victory       │\n",
       "│ 50712T191751. ┆ 51.000Z       ┆            ┆            ┆          ┆             ┆               │\n",
       "│ 000Z…         ┆               ┆            ┆            ┆          ┆             ┆               │\n",
       "│ GQJRYV0JQ_202 ┆ 20250712T1915 ┆ #GQJRYV0JQ ┆ #80Y22P29J ┆ unknown  ┆ hotZone     ┆ victory       │\n",
       "│ 50712T191544. ┆ 44.000Z       ┆            ┆            ┆          ┆             ┆               │\n",
       "│ 000Z…         ┆               ┆            ┆            ┆          ┆             ┆               │\n",
       "│ GQJRYV0JQ_202 ┆ 20250712T1908 ┆ #GQJRYV0JQ ┆ #80Y22P29J ┆ unknown  ┆ hotZone     ┆ defeat        │\n",
       "│ 50712T190858. ┆ 58.000Z       ┆            ┆            ┆          ┆             ┆               │\n",
       "│ 000Z…         ┆               ┆            ┆            ┆          ┆             ┆               │\n",
       "│ GQJRYV0JQ_202 ┆ 20250712T1903 ┆ #GQJRYV0JQ ┆ #80Y22P29J ┆ unknown  ┆ hotZone     ┆ victory       │\n",
       "│ 50712T190328. ┆ 28.000Z       ┆            ┆            ┆          ┆             ┆               │\n",
       "│ 000Z…         ┆               ┆            ┆            ┆          ┆             ┆               │\n",
       "└───────────────┴───────────────┴────────────┴────────────┴──────────┴─────────────┴───────────────┘"
      ]
     },
     "execution_count": 12,
     "metadata": {},
     "output_type": "execute_result"
    }
   ],
   "source": [
    "fact_matches_df.head(5)"
   ]
  },
  {
   "cell_type": "code",
   "execution_count": 13,
   "id": "c498136c",
   "metadata": {},
   "outputs": [
    {
     "data": {
      "text/plain": [
       "Schema([('match_id', String),\n",
       "        ('battle_time', String),\n",
       "        ('player_tag', String),\n",
       "        ('club_tag', String),\n",
       "        ('map_name', String),\n",
       "        ('battle_mode', String),\n",
       "        ('battle_result', String)])"
      ]
     },
     "execution_count": 13,
     "metadata": {},
     "output_type": "execute_result"
    }
   ],
   "source": [
    "fact_matches_df.schema"
   ]
  },
  {
   "cell_type": "code",
   "execution_count": 14,
   "id": "b1408a63",
   "metadata": {},
   "outputs": [
    {
     "data": {
      "text/html": [
       "<div><style>\n",
       ".dataframe > thead > tr,\n",
       ".dataframe > tbody > tr {\n",
       "  text-align: right;\n",
       "  white-space: pre-wrap;\n",
       "}\n",
       "</style>\n",
       "<small>shape: (5, 1)</small><table border=\"1\" class=\"dataframe\"><thead><tr><th>map_name</th></tr><tr><td>str</td></tr></thead><tbody><tr><td>&quot;Dueling Beetles&quot;</td></tr><tr><td>&quot;Gem Fort&quot;</td></tr><tr><td>&quot;Plain Text&quot;</td></tr><tr><td>&quot;Belle&#x27;s Rock&quot;</td></tr><tr><td>&quot;Mirages of Madness&quot;</td></tr></tbody></table></div>"
      ],
      "text/plain": [
       "shape: (5, 1)\n",
       "┌────────────────────┐\n",
       "│ map_name           │\n",
       "│ ---                │\n",
       "│ str                │\n",
       "╞════════════════════╡\n",
       "│ Dueling Beetles    │\n",
       "│ Gem Fort           │\n",
       "│ Plain Text         │\n",
       "│ Belle's Rock       │\n",
       "│ Mirages of Madness │\n",
       "└────────────────────┘"
      ]
     },
     "execution_count": 14,
     "metadata": {},
     "output_type": "execute_result"
    }
   ],
   "source": [
    "dim_maps_df.head()"
   ]
  }
 ],
 "metadata": {
  "kernelspec": {
   "display_name": ".venv",
   "language": "python",
   "name": "python3"
  },
  "language_info": {
   "codemirror_mode": {
    "name": "ipython",
    "version": 3
   },
   "file_extension": ".py",
   "mimetype": "text/x-python",
   "name": "python",
   "nbconvert_exporter": "python",
   "pygments_lexer": "ipython3",
   "version": "3.12.3"
  }
 },
 "nbformat": 4,
 "nbformat_minor": 5
}
