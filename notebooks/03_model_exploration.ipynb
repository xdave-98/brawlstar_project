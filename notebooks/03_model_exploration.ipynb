{
 "cells": [
  {
   "cell_type": "code",
   "execution_count": 1,
   "id": "9ec79d58",
   "metadata": {},
   "outputs": [],
   "source": [
    "import polars as pl\n",
    "from pathlib import Path"
   ]
  },
  {
   "cell_type": "code",
   "execution_count": 2,
   "id": "16a7b18d",
   "metadata": {},
   "outputs": [],
   "source": [
    "dim_clubs_path = Path(\"../data/cleaned/dim_clubs.parquet\")\n",
    "dim_game_modes_path = Path(\"../data/cleaned/dim_game_modes.parquet\")\n",
    "dim_maps_path = Path(\"../data/cleaned/dim_maps.parquet\")\n",
    "dim_players_path = Path(\"../data/cleaned/dim_players.parquet\")\n",
    "fact_matches_path = Path(\"../data/cleaned/fact_matches.parquet\")"
   ]
  },
  {
   "cell_type": "code",
   "execution_count": 3,
   "id": "2279247e",
   "metadata": {},
   "outputs": [],
   "source": [
    "dim_club_df = pl.read_parquet(dim_clubs_path)\n",
    "dim_game_modes_df = pl.read_parquet(dim_game_modes_path)\n",
    "dim_maps_df = pl.read_parquet(dim_maps_path)\n",
    "dim_players_df = pl.read_parquet(dim_players_path)\n",
    "fact_matches_df = pl.read_parquet(fact_matches_path)"
   ]
  },
  {
   "cell_type": "code",
   "execution_count": 4,
   "id": "9102d6e2",
   "metadata": {},
   "outputs": [
    {
     "data": {
      "text/html": [
       "<div><style>\n",
       ".dataframe > thead > tr,\n",
       ".dataframe > tbody > tr {\n",
       "  text-align: right;\n",
       "  white-space: pre-wrap;\n",
       "}\n",
       "</style>\n",
       "<small>shape: (5, 9)</small><table border=\"1\" class=\"dataframe\"><thead><tr><th>match_id</th><th>battle_time</th><th>battle_time_date</th><th>player_tag</th><th>club_tag</th><th>map_name</th><th>battle_mode</th><th>battle_result</th><th>_process_date</th></tr><tr><td>str</td><td>datetime[ms]</td><td>date</td><td>str</td><td>str</td><td>str</td><td>str</td><td>str</td><td>date</td></tr></thead><tbody><tr><td>&quot;CPQJCY2V-20250714-Spiraling_Ou…</td><td>2025-07-14 10:33:56</td><td>2025-07-14</td><td>&quot;#CPQJCY2V&quot;</td><td>&quot;#2L00GJU9Y&quot;</td><td>&quot;Spiraling Out&quot;</td><td>&quot;brawlBall&quot;</td><td>&quot;defeat&quot;</td><td>2025-07-14</td></tr><tr><td>&quot;CPQJCY2V-20250714-Spiraling_Ou…</td><td>2025-07-14 10:31:26</td><td>2025-07-14</td><td>&quot;#CPQJCY2V&quot;</td><td>&quot;#2L00GJU9Y&quot;</td><td>&quot;Spiraling Out&quot;</td><td>&quot;brawlBall&quot;</td><td>&quot;victory&quot;</td><td>2025-07-14</td></tr><tr><td>&quot;CPQJCY2V-20250714-Spiraling_Ou…</td><td>2025-07-14 10:29:03</td><td>2025-07-14</td><td>&quot;#CPQJCY2V&quot;</td><td>&quot;#2L00GJU9Y&quot;</td><td>&quot;Spiraling Out&quot;</td><td>&quot;brawlBall&quot;</td><td>&quot;victory&quot;</td><td>2025-07-14</td></tr><tr><td>&quot;CPQJCY2V-20250714-Spiraling_Ou…</td><td>2025-07-14 10:26:05</td><td>2025-07-14</td><td>&quot;#CPQJCY2V&quot;</td><td>&quot;#2L00GJU9Y&quot;</td><td>&quot;Spiraling Out&quot;</td><td>&quot;brawlBall&quot;</td><td>&quot;victory&quot;</td><td>2025-07-14</td></tr><tr><td>&quot;CPQJCY2V-20250714-Spiraling_Ou…</td><td>2025-07-14 10:23:48</td><td>2025-07-14</td><td>&quot;#CPQJCY2V&quot;</td><td>&quot;#2L00GJU9Y&quot;</td><td>&quot;Spiraling Out&quot;</td><td>&quot;brawlBall&quot;</td><td>&quot;victory&quot;</td><td>2025-07-14</td></tr></tbody></table></div>"
      ],
      "text/plain": [
       "shape: (5, 9)\n",
       "┌───────────┬───────────┬───────────┬───────────┬───┬───────────┬───────────┬───────────┬──────────┐\n",
       "│ match_id  ┆ battle_ti ┆ battle_ti ┆ player_ta ┆ … ┆ map_name  ┆ battle_mo ┆ battle_re ┆ _process │\n",
       "│ ---       ┆ me        ┆ me_date   ┆ g         ┆   ┆ ---       ┆ de        ┆ sult      ┆ _date    │\n",
       "│ str       ┆ ---       ┆ ---       ┆ ---       ┆   ┆ str       ┆ ---       ┆ ---       ┆ ---      │\n",
       "│           ┆ datetime[ ┆ date      ┆ str       ┆   ┆           ┆ str       ┆ str       ┆ date     │\n",
       "│           ┆ ms]       ┆           ┆           ┆   ┆           ┆           ┆           ┆          │\n",
       "╞═══════════╪═══════════╪═══════════╪═══════════╪═══╪═══════════╪═══════════╪═══════════╪══════════╡\n",
       "│ CPQJCY2V- ┆ 2025-07-1 ┆ 2025-07-1 ┆ #CPQJCY2V ┆ … ┆ Spiraling ┆ brawlBall ┆ defeat    ┆ 2025-07- │\n",
       "│ 20250714- ┆ 4         ┆ 4         ┆           ┆   ┆ Out       ┆           ┆           ┆ 14       │\n",
       "│ Spiraling ┆ 10:33:56  ┆           ┆           ┆   ┆           ┆           ┆           ┆          │\n",
       "│ _Ou…      ┆           ┆           ┆           ┆   ┆           ┆           ┆           ┆          │\n",
       "│ CPQJCY2V- ┆ 2025-07-1 ┆ 2025-07-1 ┆ #CPQJCY2V ┆ … ┆ Spiraling ┆ brawlBall ┆ victory   ┆ 2025-07- │\n",
       "│ 20250714- ┆ 4         ┆ 4         ┆           ┆   ┆ Out       ┆           ┆           ┆ 14       │\n",
       "│ Spiraling ┆ 10:31:26  ┆           ┆           ┆   ┆           ┆           ┆           ┆          │\n",
       "│ _Ou…      ┆           ┆           ┆           ┆   ┆           ┆           ┆           ┆          │\n",
       "│ CPQJCY2V- ┆ 2025-07-1 ┆ 2025-07-1 ┆ #CPQJCY2V ┆ … ┆ Spiraling ┆ brawlBall ┆ victory   ┆ 2025-07- │\n",
       "│ 20250714- ┆ 4         ┆ 4         ┆           ┆   ┆ Out       ┆           ┆           ┆ 14       │\n",
       "│ Spiraling ┆ 10:29:03  ┆           ┆           ┆   ┆           ┆           ┆           ┆          │\n",
       "│ _Ou…      ┆           ┆           ┆           ┆   ┆           ┆           ┆           ┆          │\n",
       "│ CPQJCY2V- ┆ 2025-07-1 ┆ 2025-07-1 ┆ #CPQJCY2V ┆ … ┆ Spiraling ┆ brawlBall ┆ victory   ┆ 2025-07- │\n",
       "│ 20250714- ┆ 4         ┆ 4         ┆           ┆   ┆ Out       ┆           ┆           ┆ 14       │\n",
       "│ Spiraling ┆ 10:26:05  ┆           ┆           ┆   ┆           ┆           ┆           ┆          │\n",
       "│ _Ou…      ┆           ┆           ┆           ┆   ┆           ┆           ┆           ┆          │\n",
       "│ CPQJCY2V- ┆ 2025-07-1 ┆ 2025-07-1 ┆ #CPQJCY2V ┆ … ┆ Spiraling ┆ brawlBall ┆ victory   ┆ 2025-07- │\n",
       "│ 20250714- ┆ 4         ┆ 4         ┆           ┆   ┆ Out       ┆           ┆           ┆ 14       │\n",
       "│ Spiraling ┆ 10:23:48  ┆           ┆           ┆   ┆           ┆           ┆           ┆          │\n",
       "│ _Ou…      ┆           ┆           ┆           ┆   ┆           ┆           ┆           ┆          │\n",
       "└───────────┴───────────┴───────────┴───────────┴───┴───────────┴───────────┴───────────┴──────────┘"
      ]
     },
     "execution_count": 4,
     "metadata": {},
     "output_type": "execute_result"
    }
   ],
   "source": [
    "fact_matches_df.head(5)"
   ]
  },
  {
   "cell_type": "code",
   "execution_count": 5,
   "id": "c498136c",
   "metadata": {},
   "outputs": [
    {
     "data": {
      "text/plain": [
       "Schema([('match_id', String),\n",
       "        ('battle_time', Datetime(time_unit='ms', time_zone=None)),\n",
       "        ('battle_time_date', Date),\n",
       "        ('player_tag', String),\n",
       "        ('club_tag', String),\n",
       "        ('map_name', String),\n",
       "        ('battle_mode', String),\n",
       "        ('battle_result', String),\n",
       "        ('_process_date', Date)])"
      ]
     },
     "execution_count": 5,
     "metadata": {},
     "output_type": "execute_result"
    }
   ],
   "source": [
    "fact_matches_df.schema"
   ]
  },
  {
   "cell_type": "code",
   "execution_count": 6,
   "id": "b1408a63",
   "metadata": {},
   "outputs": [
    {
     "data": {
      "text/html": [
       "<div><style>\n",
       ".dataframe > thead > tr,\n",
       ".dataframe > tbody > tr {\n",
       "  text-align: right;\n",
       "  white-space: pre-wrap;\n",
       "}\n",
       "</style>\n",
       "<small>shape: (5, 2)</small><table border=\"1\" class=\"dataframe\"><thead><tr><th>map_name</th><th>_process_date</th></tr><tr><td>str</td><td>date</td></tr></thead><tbody><tr><td>&quot;Sidetrack&quot;</td><td>2025-07-14</td></tr><tr><td>&quot;Hideout&quot;</td><td>2025-07-14</td></tr><tr><td>&quot;Backyard Bowl&quot;</td><td>2025-07-14</td></tr><tr><td>&quot;Open Zone&quot;</td><td>2025-07-14</td></tr><tr><td>&quot;Hot Potato&quot;</td><td>2025-07-14</td></tr></tbody></table></div>"
      ],
      "text/plain": [
       "shape: (5, 2)\n",
       "┌───────────────┬───────────────┐\n",
       "│ map_name      ┆ _process_date │\n",
       "│ ---           ┆ ---           │\n",
       "│ str           ┆ date          │\n",
       "╞═══════════════╪═══════════════╡\n",
       "│ Sidetrack     ┆ 2025-07-14    │\n",
       "│ Hideout       ┆ 2025-07-14    │\n",
       "│ Backyard Bowl ┆ 2025-07-14    │\n",
       "│ Open Zone     ┆ 2025-07-14    │\n",
       "│ Hot Potato    ┆ 2025-07-14    │\n",
       "└───────────────┴───────────────┘"
      ]
     },
     "execution_count": 6,
     "metadata": {},
     "output_type": "execute_result"
    }
   ],
   "source": [
    "dim_maps_df.head()"
   ]
  },
  {
   "cell_type": "code",
   "execution_count": 7,
   "id": "04f7644c",
   "metadata": {},
   "outputs": [
    {
     "data": {
      "text/html": [
       "<div><style>\n",
       ".dataframe > thead > tr,\n",
       ".dataframe > tbody > tr {\n",
       "  text-align: right;\n",
       "  white-space: pre-wrap;\n",
       "}\n",
       "</style>\n",
       "<small>shape: (5, 2)</small><table border=\"1\" class=\"dataframe\"><thead><tr><th>battle_mode</th><th>_process_date</th></tr><tr><td>str</td><td>date</td></tr></thead><tbody><tr><td>&quot;siege&quot;</td><td>2025-07-14</td></tr><tr><td>&quot;hotZone&quot;</td><td>2025-07-14</td></tr><tr><td>&quot;knockout&quot;</td><td>2025-07-14</td></tr><tr><td>&quot;gemGrab&quot;</td><td>2025-07-14</td></tr><tr><td>&quot;heist&quot;</td><td>2025-07-14</td></tr></tbody></table></div>"
      ],
      "text/plain": [
       "shape: (5, 2)\n",
       "┌─────────────┬───────────────┐\n",
       "│ battle_mode ┆ _process_date │\n",
       "│ ---         ┆ ---           │\n",
       "│ str         ┆ date          │\n",
       "╞═════════════╪═══════════════╡\n",
       "│ siege       ┆ 2025-07-14    │\n",
       "│ hotZone     ┆ 2025-07-14    │\n",
       "│ knockout    ┆ 2025-07-14    │\n",
       "│ gemGrab     ┆ 2025-07-14    │\n",
       "│ heist       ┆ 2025-07-14    │\n",
       "└─────────────┴───────────────┘"
      ]
     },
     "execution_count": 7,
     "metadata": {},
     "output_type": "execute_result"
    }
   ],
   "source": [
    "dim_game_modes_df.head()"
   ]
  },
  {
   "cell_type": "code",
   "execution_count": 8,
   "id": "75830855",
   "metadata": {},
   "outputs": [
    {
     "data": {
      "text/html": [
       "<div><style>\n",
       ".dataframe > thead > tr,\n",
       ".dataframe > tbody > tr {\n",
       "  text-align: right;\n",
       "  white-space: pre-wrap;\n",
       "}\n",
       "</style>\n",
       "<small>shape: (2, 7)</small><table border=\"1\" class=\"dataframe\"><thead><tr><th>tag</th><th>name</th><th>description</th><th>trophies</th><th>required_trophies</th><th>member_count</th><th>_process_date</th></tr><tr><td>str</td><td>str</td><td>str</td><td>i64</td><td>i64</td><td>i64</td><td>date</td></tr></thead><tbody><tr><td>&quot;#2L00GJU9Y&quot;</td><td>&quot;JGM|Esport な&quot;</td><td>&quot; &lt;c2&gt;#GoJGM&lt;/c&gt; • 1 🇫🇷 &amp; 2 🌍|&lt;…</td><td>3050459</td><td>90000</td><td>30</td><td>2025-07-14</td></tr><tr><td>&quot;#80Y22P29J&quot;</td><td>&quot;Natz Army🇫🇷&quot;</td><td>&quot;Tiktok: Natz&quot;</td><td>2618129</td><td>70000</td><td>30</td><td>2025-07-14</td></tr></tbody></table></div>"
      ],
      "text/plain": [
       "shape: (2, 7)\n",
       "┌────────────┬──────────────┬──────────────┬──────────┬──────────────┬──────────────┬──────────────┐\n",
       "│ tag        ┆ name         ┆ description  ┆ trophies ┆ required_tro ┆ member_count ┆ _process_dat │\n",
       "│ ---        ┆ ---          ┆ ---          ┆ ---      ┆ phies        ┆ ---          ┆ e            │\n",
       "│ str        ┆ str          ┆ str          ┆ i64      ┆ ---          ┆ i64          ┆ ---          │\n",
       "│            ┆              ┆              ┆          ┆ i64          ┆              ┆ date         │\n",
       "╞════════════╪══════════════╪══════════════╪══════════╪══════════════╪══════════════╪══════════════╡\n",
       "│ #2L00GJU9Y ┆ JGM|Esport   ┆ <c2>#GoJGM</ ┆ 3050459  ┆ 90000        ┆ 30           ┆ 2025-07-14   │\n",
       "│            ┆ な           ┆ c> • 1 🇫🇷 &  ┆          ┆              ┆              ┆              │\n",
       "│            ┆              ┆ 2 🌍|<…      ┆          ┆              ┆              ┆              │\n",
       "│ #80Y22P29J ┆ Natz Army🇫🇷  ┆ Tiktok: Natz ┆ 2618129  ┆ 70000        ┆ 30           ┆ 2025-07-14   │\n",
       "└────────────┴──────────────┴──────────────┴──────────┴──────────────┴──────────────┴──────────────┘"
      ]
     },
     "execution_count": 8,
     "metadata": {},
     "output_type": "execute_result"
    }
   ],
   "source": [
    "dim_club_df.head()"
   ]
  },
  {
   "cell_type": "code",
   "execution_count": 9,
   "id": "09d9953b",
   "metadata": {},
   "outputs": [
    {
     "data": {
      "text/html": [
       "<div><style>\n",
       ".dataframe > thead > tr,\n",
       ".dataframe > tbody > tr {\n",
       "  text-align: right;\n",
       "  white-space: pre-wrap;\n",
       "}\n",
       "</style>\n",
       "<small>shape: (30, 9)</small><table border=\"1\" class=\"dataframe\"><thead><tr><th>tag</th><th>name</th><th>club_tag</th><th>club_role</th><th>trophies</th><th>highest_trophies</th><th>exp_level</th><th>exp_points</th><th>_process_date</th></tr><tr><td>str</td><td>str</td><td>str</td><td>str</td><td>i64</td><td>i64</td><td>i64</td><td>i64</td><td>date</td></tr></thead><tbody><tr><td>&quot;#PPVPLLR8&quot;</td><td>&quot;MTB|Baptou&quot;</td><td>&quot;#80Y22P29J&quot;</td><td>&quot;member&quot;</td><td>78709</td><td>78744</td><td>226</td><td>261895</td><td>2025-07-14</td></tr><tr><td>&quot;#RCGVCQUC&quot;</td><td>&quot;🦇𝑶𝒑|airnox 㟼&quot;</td><td>&quot;#2L00GJU9Y&quot;</td><td>&quot;member&quot;</td><td>103750</td><td>103783</td><td>315</td><td>505808</td><td>2025-07-14</td></tr><tr><td>&quot;#G02QL2U2&quot;</td><td>&quot;Chewbee&quot;</td><td>&quot;#80Y22P29J&quot;</td><td>&quot;member&quot;</td><td>93507</td><td>95248</td><td>321</td><td>525250</td><td>2025-07-14</td></tr><tr><td>&quot;#2Y0J2GR0V&quot;</td><td>&quot;GT|litchi🐉&quot;</td><td>&quot;#80Y22P29J&quot;</td><td>&quot;member&quot;</td><td>93323</td><td>93850</td><td>350</td><td>622135</td><td>2025-07-14</td></tr><tr><td>&quot;#2CG8YCYVR&quot;</td><td>&quot;VX|La Mort💫&quot;</td><td>&quot;#2L00GJU9Y&quot;</td><td>&quot;member&quot;</td><td>103480</td><td>103480</td><td>336</td><td>574793</td><td>2025-07-14</td></tr><tr><td>&hellip;</td><td>&hellip;</td><td>&hellip;</td><td>&hellip;</td><td>&hellip;</td><td>&hellip;</td><td>&hellip;</td><td>&hellip;</td><td>&hellip;</td></tr><tr><td>&quot;#2Y0P9YRQR&quot;</td><td>&quot;SG|Snow&quot;</td><td>&quot;#2L00GJU9Y&quot;</td><td>&quot;member&quot;</td><td>101660</td><td>101666</td><td>278</td><td>393440</td><td>2025-07-14</td></tr><tr><td>&quot;#GLQ90PL92&quot;</td><td>&quot;LB|❦ᶫLͫe manx?⛩&quot;</td><td>&quot;#80Y22P29J&quot;</td><td>&quot;member&quot;</td><td>94211</td><td>100010</td><td>232</td><td>275082</td><td>2025-07-14</td></tr><tr><td>&quot;#G9YJPPRJP&quot;</td><td>&quot;JGM|Louis な&quot;</td><td>&quot;#2L00GJU9Y&quot;</td><td>&quot;president&quot;</td><td>93571</td><td>100301</td><td>251</td><td>323278</td><td>2025-07-14</td></tr><tr><td>&quot;#2LYJU29PQ&quot;</td><td>&quot;JGM | Ayko な&quot;</td><td>&quot;#2L00GJU9Y&quot;</td><td>&quot;vicePresident&quot;</td><td>96119</td><td>96124</td><td>247</td><td>313486</td><td>2025-07-14</td></tr><tr><td>&quot;#RPLQVRCV9&quot;</td><td>&quot;么Slayzz💙ORN&quot;</td><td>&quot;#80Y22P29J&quot;</td><td>&quot;member&quot;</td><td>80016</td><td>80043</td><td>208</td><td>221927</td><td>2025-07-14</td></tr></tbody></table></div>"
      ],
      "text/plain": [
       "shape: (30, 9)\n",
       "┌───────────┬───────────┬───────────┬───────────┬───┬───────────┬───────────┬───────────┬──────────┐\n",
       "│ tag       ┆ name      ┆ club_tag  ┆ club_role ┆ … ┆ highest_t ┆ exp_level ┆ exp_point ┆ _process │\n",
       "│ ---       ┆ ---       ┆ ---       ┆ ---       ┆   ┆ rophies   ┆ ---       ┆ s         ┆ _date    │\n",
       "│ str       ┆ str       ┆ str       ┆ str       ┆   ┆ ---       ┆ i64       ┆ ---       ┆ ---      │\n",
       "│           ┆           ┆           ┆           ┆   ┆ i64       ┆           ┆ i64       ┆ date     │\n",
       "╞═══════════╪═══════════╪═══════════╪═══════════╪═══╪═══════════╪═══════════╪═══════════╪══════════╡\n",
       "│ #PPVPLLR8 ┆ MTB|Bapto ┆ #80Y22P29 ┆ member    ┆ … ┆ 78744     ┆ 226       ┆ 261895    ┆ 2025-07- │\n",
       "│           ┆ u         ┆ J         ┆           ┆   ┆           ┆           ┆           ┆ 14       │\n",
       "│ #RCGVCQUC ┆ 🦇𝑶𝒑|airn ┆ #2L00GJU9 ┆ member    ┆ … ┆ 103783    ┆ 315       ┆ 505808    ┆ 2025-07- │\n",
       "│           ┆ ox 㟼     ┆ Y         ┆           ┆   ┆           ┆           ┆           ┆ 14       │\n",
       "│ #G02QL2U2 ┆ Chewbee   ┆ #80Y22P29 ┆ member    ┆ … ┆ 95248     ┆ 321       ┆ 525250    ┆ 2025-07- │\n",
       "│           ┆           ┆ J         ┆           ┆   ┆           ┆           ┆           ┆ 14       │\n",
       "│ #2Y0J2GR0 ┆ GT|litchi ┆ #80Y22P29 ┆ member    ┆ … ┆ 93850     ┆ 350       ┆ 622135    ┆ 2025-07- │\n",
       "│ V         ┆ 🐉        ┆ J         ┆           ┆   ┆           ┆           ┆           ┆ 14       │\n",
       "│ #2CG8YCYV ┆ VX|La     ┆ #2L00GJU9 ┆ member    ┆ … ┆ 103480    ┆ 336       ┆ 574793    ┆ 2025-07- │\n",
       "│ R         ┆ Mort💫    ┆ Y         ┆           ┆   ┆           ┆           ┆           ┆ 14       │\n",
       "│ …         ┆ …         ┆ …         ┆ …         ┆ … ┆ …         ┆ …         ┆ …         ┆ …        │\n",
       "│ #2Y0P9YRQ ┆ SG|Snow   ┆ #2L00GJU9 ┆ member    ┆ … ┆ 101666    ┆ 278       ┆ 393440    ┆ 2025-07- │\n",
       "│ R         ┆           ┆ Y         ┆           ┆   ┆           ┆           ┆           ┆ 14       │\n",
       "│ #GLQ90PL9 ┆ LB|❦ᶫLͫe   ┆ #80Y22P29 ┆ member    ┆ … ┆ 100010    ┆ 232       ┆ 275082    ┆ 2025-07- │\n",
       "│ 2         ┆ manx?⛩    ┆ J         ┆           ┆   ┆           ┆           ┆           ┆ 14       │\n",
       "│ #G9YJPPRJ ┆ JGM|Louis ┆ #2L00GJU9 ┆ president ┆ … ┆ 100301    ┆ 251       ┆ 323278    ┆ 2025-07- │\n",
       "│ P         ┆ な        ┆ Y         ┆           ┆   ┆           ┆           ┆           ┆ 14       │\n",
       "│ #2LYJU29P ┆ JGM |     ┆ #2L00GJU9 ┆ vicePresi ┆ … ┆ 96124     ┆ 247       ┆ 313486    ┆ 2025-07- │\n",
       "│ Q         ┆ Ayko な   ┆ Y         ┆ dent      ┆   ┆           ┆           ┆           ┆ 14       │\n",
       "│ #RPLQVRCV ┆ 么Slayzz  ┆ #80Y22P29 ┆ member    ┆ … ┆ 80043     ┆ 208       ┆ 221927    ┆ 2025-07- │\n",
       "│ 9         ┆ 💙ORN     ┆ J         ┆           ┆   ┆           ┆           ┆           ┆ 14       │\n",
       "└───────────┴───────────┴───────────┴───────────┴───┴───────────┴───────────┴───────────┴──────────┘"
      ]
     },
     "execution_count": 9,
     "metadata": {},
     "output_type": "execute_result"
    }
   ],
   "source": [
    "dim_players_df.head(30)"
   ]
  }
 ],
 "metadata": {
  "kernelspec": {
   "display_name": ".venv",
   "language": "python",
   "name": "python3"
  },
  "language_info": {
   "codemirror_mode": {
    "name": "ipython",
    "version": 3
   },
   "file_extension": ".py",
   "mimetype": "text/x-python",
   "name": "python",
   "nbconvert_exporter": "python",
   "pygments_lexer": "ipython3",
   "version": "3.12.3"
  }
 },
 "nbformat": 4,
 "nbformat_minor": 5
}
