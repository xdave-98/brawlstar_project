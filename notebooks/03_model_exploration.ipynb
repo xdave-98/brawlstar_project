{
 "cells": [
  {
   "cell_type": "code",
   "execution_count": 21,
   "id": "9ec79d58",
   "metadata": {},
   "outputs": [],
   "source": [
    "import polars as pl\n",
    "from pathlib import Path"
   ]
  },
  {
   "cell_type": "code",
   "execution_count": 22,
   "id": "71bdabf8",
   "metadata": {},
   "outputs": [],
   "source": [
    "# Set the date for your data partition\n",
    "DATE = \"2025-07-14\"  # Change as needed"
   ]
  },
  {
   "cell_type": "code",
   "execution_count": 23,
   "id": "16a7b18d",
   "metadata": {},
   "outputs": [],
   "source": [
    "dim_clubs_path = Path(f\"../data/cleaned/dim_clubs/{DATE}/dim_clubs.parquet\")\n",
    "dim_game_modes_path = Path(f\"../data/cleaned/dim_game_modes/{DATE}/dim_game_modes.parquet\")\n",
    "dim_maps_path = Path(f\"../data/cleaned/dim_maps/{DATE}/dim_maps.parquet\")\n",
    "dim_players_path = Path(f\"../data/cleaned/dim_players/{DATE}/dim_players.parquet\")\n",
    "fact_matches_path = Path(f\"../data/cleaned/fact_matches/{DATE}/fact_matches.parquet\")"
   ]
  },
  {
   "cell_type": "code",
   "execution_count": 24,
   "id": "2279247e",
   "metadata": {},
   "outputs": [],
   "source": [
    "dim_club_df = pl.read_parquet(dim_clubs_path)\n",
    "dim_game_modes_df = pl.read_parquet(dim_game_modes_path)\n",
    "dim_maps_df = pl.read_parquet(dim_maps_path)\n",
    "dim_players_df = pl.read_parquet(dim_players_path)\n",
    "fact_matches_df = pl.read_parquet(fact_matches_path)"
   ]
  },
  {
   "cell_type": "code",
   "execution_count": 25,
   "id": "9102d6e2",
   "metadata": {},
   "outputs": [
    {
     "data": {
      "text/html": [
       "<div><style>\n",
       ".dataframe > thead > tr,\n",
       ".dataframe > tbody > tr {\n",
       "  text-align: right;\n",
       "  white-space: pre-wrap;\n",
       "}\n",
       "</style>\n",
       "<small>shape: (5, 8)</small><table border=\"1\" class=\"dataframe\"><thead><tr><th>match_id</th><th>battle_time</th><th>battle_time_date</th><th>player_tag</th><th>club_tag</th><th>map_name</th><th>battle_mode</th><th>battle_result</th></tr><tr><td>str</td><td>datetime[ms]</td><td>date</td><td>str</td><td>str</td><td>str</td><td>str</td><td>str</td></tr></thead><tbody><tr><td>&quot;GQJRYV0JQ-20250713-unknown&quot;</td><td>2025-07-13 06:18:19</td><td>2025-07-13</td><td>&quot;#GQJRYV0JQ&quot;</td><td>&quot;#80Y22P29J&quot;</td><td>&quot;unknown&quot;</td><td>&quot;hotZone&quot;</td><td>&quot;defeat&quot;</td></tr><tr><td>&quot;GQJRYV0JQ-20250712-unknown&quot;</td><td>2025-07-12 19:17:51</td><td>2025-07-12</td><td>&quot;#GQJRYV0JQ&quot;</td><td>&quot;#80Y22P29J&quot;</td><td>&quot;unknown&quot;</td><td>&quot;hotZone&quot;</td><td>&quot;victory&quot;</td></tr><tr><td>&quot;GQJRYV0JQ-20250712-unknown&quot;</td><td>2025-07-12 19:15:44</td><td>2025-07-12</td><td>&quot;#GQJRYV0JQ&quot;</td><td>&quot;#80Y22P29J&quot;</td><td>&quot;unknown&quot;</td><td>&quot;hotZone&quot;</td><td>&quot;victory&quot;</td></tr><tr><td>&quot;GQJRYV0JQ-20250712-unknown&quot;</td><td>2025-07-12 19:08:58</td><td>2025-07-12</td><td>&quot;#GQJRYV0JQ&quot;</td><td>&quot;#80Y22P29J&quot;</td><td>&quot;unknown&quot;</td><td>&quot;hotZone&quot;</td><td>&quot;defeat&quot;</td></tr><tr><td>&quot;GQJRYV0JQ-20250712-unknown&quot;</td><td>2025-07-12 19:03:28</td><td>2025-07-12</td><td>&quot;#GQJRYV0JQ&quot;</td><td>&quot;#80Y22P29J&quot;</td><td>&quot;unknown&quot;</td><td>&quot;hotZone&quot;</td><td>&quot;victory&quot;</td></tr></tbody></table></div>"
      ],
      "text/plain": [
       "shape: (5, 8)\n",
       "┌────────────┬────────────┬────────────┬────────────┬───────────┬──────────┬───────────┬───────────┐\n",
       "│ match_id   ┆ battle_tim ┆ battle_tim ┆ player_tag ┆ club_tag  ┆ map_name ┆ battle_mo ┆ battle_re │\n",
       "│ ---        ┆ e          ┆ e_date     ┆ ---        ┆ ---       ┆ ---      ┆ de        ┆ sult      │\n",
       "│ str        ┆ ---        ┆ ---        ┆ str        ┆ str       ┆ str      ┆ ---       ┆ ---       │\n",
       "│            ┆ datetime[m ┆ date       ┆            ┆           ┆          ┆ str       ┆ str       │\n",
       "│            ┆ s]         ┆            ┆            ┆           ┆          ┆           ┆           │\n",
       "╞════════════╪════════════╪════════════╪════════════╪═══════════╪══════════╪═══════════╪═══════════╡\n",
       "│ GQJRYV0JQ- ┆ 2025-07-13 ┆ 2025-07-13 ┆ #GQJRYV0JQ ┆ #80Y22P29 ┆ unknown  ┆ hotZone   ┆ defeat    │\n",
       "│ 20250713-u ┆ 06:18:19   ┆            ┆            ┆ J         ┆          ┆           ┆           │\n",
       "│ nknown     ┆            ┆            ┆            ┆           ┆          ┆           ┆           │\n",
       "│ GQJRYV0JQ- ┆ 2025-07-12 ┆ 2025-07-12 ┆ #GQJRYV0JQ ┆ #80Y22P29 ┆ unknown  ┆ hotZone   ┆ victory   │\n",
       "│ 20250712-u ┆ 19:17:51   ┆            ┆            ┆ J         ┆          ┆           ┆           │\n",
       "│ nknown     ┆            ┆            ┆            ┆           ┆          ┆           ┆           │\n",
       "│ GQJRYV0JQ- ┆ 2025-07-12 ┆ 2025-07-12 ┆ #GQJRYV0JQ ┆ #80Y22P29 ┆ unknown  ┆ hotZone   ┆ victory   │\n",
       "│ 20250712-u ┆ 19:15:44   ┆            ┆            ┆ J         ┆          ┆           ┆           │\n",
       "│ nknown     ┆            ┆            ┆            ┆           ┆          ┆           ┆           │\n",
       "│ GQJRYV0JQ- ┆ 2025-07-12 ┆ 2025-07-12 ┆ #GQJRYV0JQ ┆ #80Y22P29 ┆ unknown  ┆ hotZone   ┆ defeat    │\n",
       "│ 20250712-u ┆ 19:08:58   ┆            ┆            ┆ J         ┆          ┆           ┆           │\n",
       "│ nknown     ┆            ┆            ┆            ┆           ┆          ┆           ┆           │\n",
       "│ GQJRYV0JQ- ┆ 2025-07-12 ┆ 2025-07-12 ┆ #GQJRYV0JQ ┆ #80Y22P29 ┆ unknown  ┆ hotZone   ┆ victory   │\n",
       "│ 20250712-u ┆ 19:03:28   ┆            ┆            ┆ J         ┆          ┆           ┆           │\n",
       "│ nknown     ┆            ┆            ┆            ┆           ┆          ┆           ┆           │\n",
       "└────────────┴────────────┴────────────┴────────────┴───────────┴──────────┴───────────┴───────────┘"
      ]
     },
     "execution_count": 25,
     "metadata": {},
     "output_type": "execute_result"
    }
   ],
   "source": [
    "fact_matches_df.head(5)"
   ]
  },
  {
   "cell_type": "code",
   "execution_count": 26,
   "id": "c498136c",
   "metadata": {},
   "outputs": [
    {
     "data": {
      "text/plain": [
       "Schema([('match_id', String),\n",
       "        ('battle_time', Datetime(time_unit='ms', time_zone=None)),\n",
       "        ('battle_time_date', Date),\n",
       "        ('player_tag', String),\n",
       "        ('club_tag', String),\n",
       "        ('map_name', String),\n",
       "        ('battle_mode', String),\n",
       "        ('battle_result', String)])"
      ]
     },
     "execution_count": 26,
     "metadata": {},
     "output_type": "execute_result"
    }
   ],
   "source": [
    "fact_matches_df.schema"
   ]
  },
  {
   "cell_type": "code",
   "execution_count": 27,
   "id": "b1408a63",
   "metadata": {},
   "outputs": [
    {
     "data": {
      "text/html": [
       "<div><style>\n",
       ".dataframe > thead > tr,\n",
       ".dataframe > tbody > tr {\n",
       "  text-align: right;\n",
       "  white-space: pre-wrap;\n",
       "}\n",
       "</style>\n",
       "<small>shape: (5, 1)</small><table border=\"1\" class=\"dataframe\"><thead><tr><th>map_name</th></tr><tr><td>str</td></tr></thead><tbody><tr><td>&quot;Block Party&quot;</td></tr><tr><td>&quot;Hot Potato&quot;</td></tr><tr><td>&quot;Hard Rock Mine&quot;</td></tr><tr><td>&quot;Tiger Leap&quot;</td></tr><tr><td>&quot;Pinhole Punt&quot;</td></tr></tbody></table></div>"
      ],
      "text/plain": [
       "shape: (5, 1)\n",
       "┌────────────────┐\n",
       "│ map_name       │\n",
       "│ ---            │\n",
       "│ str            │\n",
       "╞════════════════╡\n",
       "│ Block Party    │\n",
       "│ Hot Potato     │\n",
       "│ Hard Rock Mine │\n",
       "│ Tiger Leap     │\n",
       "│ Pinhole Punt   │\n",
       "└────────────────┘"
      ]
     },
     "execution_count": 27,
     "metadata": {},
     "output_type": "execute_result"
    }
   ],
   "source": [
    "dim_maps_df.head()"
   ]
  },
  {
   "cell_type": "code",
   "execution_count": 28,
   "id": "04f7644c",
   "metadata": {},
   "outputs": [
    {
     "data": {
      "text/html": [
       "<div><style>\n",
       ".dataframe > thead > tr,\n",
       ".dataframe > tbody > tr {\n",
       "  text-align: right;\n",
       "  white-space: pre-wrap;\n",
       "}\n",
       "</style>\n",
       "<small>shape: (5, 1)</small><table border=\"1\" class=\"dataframe\"><thead><tr><th>battle_mode</th></tr><tr><td>str</td></tr></thead><tbody><tr><td>&quot;volleyBrawl&quot;</td></tr><tr><td>&quot;hotZone&quot;</td></tr><tr><td>&quot;knockout&quot;</td></tr><tr><td>&quot;duels&quot;</td></tr><tr><td>&quot;brawlBall&quot;</td></tr></tbody></table></div>"
      ],
      "text/plain": [
       "shape: (5, 1)\n",
       "┌─────────────┐\n",
       "│ battle_mode │\n",
       "│ ---         │\n",
       "│ str         │\n",
       "╞═════════════╡\n",
       "│ volleyBrawl │\n",
       "│ hotZone     │\n",
       "│ knockout    │\n",
       "│ duels       │\n",
       "│ brawlBall   │\n",
       "└─────────────┘"
      ]
     },
     "execution_count": 28,
     "metadata": {},
     "output_type": "execute_result"
    }
   ],
   "source": [
    "dim_game_modes_df.head()"
   ]
  },
  {
   "cell_type": "code",
   "execution_count": 29,
   "id": "75830855",
   "metadata": {},
   "outputs": [
    {
     "data": {
      "text/html": [
       "<div><style>\n",
       ".dataframe > thead > tr,\n",
       ".dataframe > tbody > tr {\n",
       "  text-align: right;\n",
       "  white-space: pre-wrap;\n",
       "}\n",
       "</style>\n",
       "<small>shape: (1, 6)</small><table border=\"1\" class=\"dataframe\"><thead><tr><th>tag</th><th>name</th><th>description</th><th>trophies</th><th>required_trophies</th><th>member_count</th></tr><tr><td>str</td><td>str</td><td>str</td><td>i64</td><td>i64</td><td>i64</td></tr></thead><tbody><tr><td>&quot;#80Y22P29J&quot;</td><td>&quot;Natz Army🇫🇷&quot;</td><td>&quot;Tiktok: Natz&quot;</td><td>2442102</td><td>60000</td><td>28</td></tr></tbody></table></div>"
      ],
      "text/plain": [
       "shape: (1, 6)\n",
       "┌────────────┬─────────────┬──────────────┬──────────┬───────────────────┬──────────────┐\n",
       "│ tag        ┆ name        ┆ description  ┆ trophies ┆ required_trophies ┆ member_count │\n",
       "│ ---        ┆ ---         ┆ ---          ┆ ---      ┆ ---               ┆ ---          │\n",
       "│ str        ┆ str         ┆ str          ┆ i64      ┆ i64               ┆ i64          │\n",
       "╞════════════╪═════════════╪══════════════╪══════════╪═══════════════════╪══════════════╡\n",
       "│ #80Y22P29J ┆ Natz Army🇫🇷 ┆ Tiktok: Natz ┆ 2442102  ┆ 60000             ┆ 28           │\n",
       "└────────────┴─────────────┴──────────────┴──────────┴───────────────────┴──────────────┘"
      ]
     },
     "execution_count": 29,
     "metadata": {},
     "output_type": "execute_result"
    }
   ],
   "source": [
    "dim_club_df.head()"
   ]
  },
  {
   "cell_type": "code",
   "execution_count": 30,
   "id": "09d9953b",
   "metadata": {},
   "outputs": [
    {
     "data": {
      "text/html": [
       "<div><style>\n",
       ".dataframe > thead > tr,\n",
       ".dataframe > tbody > tr {\n",
       "  text-align: right;\n",
       "  white-space: pre-wrap;\n",
       "}\n",
       "</style>\n",
       "<small>shape: (5, 8)</small><table border=\"1\" class=\"dataframe\"><thead><tr><th>tag</th><th>name</th><th>club_tag</th><th>club_role</th><th>trophies</th><th>highest_trophies</th><th>exp_level</th><th>exp_points</th></tr><tr><td>str</td><td>str</td><td>str</td><td>str</td><td>i64</td><td>i64</td><td>i64</td><td>i64</td></tr></thead><tbody><tr><td>&quot;#YGQUGP98U&quot;</td><td>&quot;IkosQu❦&quot;</td><td>&quot;#80Y22P29J&quot;</td><td>&quot;member&quot;</td><td>93220</td><td>93922</td><td>352</td><td>631725</td></tr><tr><td>&quot;#29QYURCVQ&quot;</td><td>&quot;dodu&quot;</td><td>&quot;#80Y22P29J&quot;</td><td>&quot;member&quot;</td><td>92376</td><td>92398</td><td>233</td><td>279358</td></tr><tr><td>&quot;#GCCYL880J&quot;</td><td>&quot;RMC 22&quot;</td><td>&quot;#80Y22P29J&quot;</td><td>&quot;member&quot;</td><td>77508</td><td>77518</td><td>206</td><td>218751</td></tr><tr><td>&quot;#9QUU8P8RG&quot;</td><td>&quot;𝔑𝔱𝔥_𝟗𝟒&quot;</td><td>&quot;#80Y22P29J&quot;</td><td>&quot;member&quot;</td><td>93514</td><td>93528</td><td>274</td><td>382223</td></tr><tr><td>&quot;#GLQ90PL92&quot;</td><td>&quot;LB|❦ᶫLͫe manx?⛩&quot;</td><td>&quot;#80Y22P29J&quot;</td><td>&quot;member&quot;</td><td>94206</td><td>100010</td><td>231</td><td>274680</td></tr></tbody></table></div>"
      ],
      "text/plain": [
       "shape: (5, 8)\n",
       "┌────────────┬────────────┬────────────┬───────────┬──────────┬────────────┬───────────┬───────────┐\n",
       "│ tag        ┆ name       ┆ club_tag   ┆ club_role ┆ trophies ┆ highest_tr ┆ exp_level ┆ exp_point │\n",
       "│ ---        ┆ ---        ┆ ---        ┆ ---       ┆ ---      ┆ ophies     ┆ ---       ┆ s         │\n",
       "│ str        ┆ str        ┆ str        ┆ str       ┆ i64      ┆ ---        ┆ i64       ┆ ---       │\n",
       "│            ┆            ┆            ┆           ┆          ┆ i64        ┆           ┆ i64       │\n",
       "╞════════════╪════════════╪════════════╪═══════════╪══════════╪════════════╪═══════════╪═══════════╡\n",
       "│ #YGQUGP98U ┆ IkosQu❦    ┆ #80Y22P29J ┆ member    ┆ 93220    ┆ 93922      ┆ 352       ┆ 631725    │\n",
       "│ #29QYURCVQ ┆ dodu       ┆ #80Y22P29J ┆ member    ┆ 92376    ┆ 92398      ┆ 233       ┆ 279358    │\n",
       "│ #GCCYL880J ┆ RMC 22     ┆ #80Y22P29J ┆ member    ┆ 77508    ┆ 77518      ┆ 206       ┆ 218751    │\n",
       "│ #9QUU8P8RG ┆ 𝔑𝔱𝔥_𝟗𝟒     ┆ #80Y22P29J ┆ member    ┆ 93514    ┆ 93528      ┆ 274       ┆ 382223    │\n",
       "│ #GLQ90PL92 ┆ LB|❦ᶫLͫe    ┆ #80Y22P29J ┆ member    ┆ 94206    ┆ 100010     ┆ 231       ┆ 274680    │\n",
       "│            ┆ manx?⛩     ┆            ┆           ┆          ┆            ┆           ┆           │\n",
       "└────────────┴────────────┴────────────┴───────────┴──────────┴────────────┴───────────┴───────────┘"
      ]
     },
     "execution_count": 30,
     "metadata": {},
     "output_type": "execute_result"
    }
   ],
   "source": [
    "dim_players_df.head()"
   ]
  }
 ],
 "metadata": {
  "kernelspec": {
   "display_name": ".venv",
   "language": "python",
   "name": "python3"
  },
  "language_info": {
   "codemirror_mode": {
    "name": "ipython",
    "version": 3
   },
   "file_extension": ".py",
   "mimetype": "text/x-python",
   "name": "python",
   "nbconvert_exporter": "python",
   "pygments_lexer": "ipython3",
   "version": "3.12.3"
  }
 },
 "nbformat": 4,
 "nbformat_minor": 5
}
