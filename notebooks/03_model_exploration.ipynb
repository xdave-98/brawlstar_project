{
 "cells": [
  {
   "cell_type": "code",
   "execution_count": 9,
   "id": "9ec79d58",
   "metadata": {},
   "outputs": [],
   "source": [
    "import polars as pl\n",
    "from pathlib import Path"
   ]
  },
  {
   "cell_type": "code",
   "execution_count": 10,
   "id": "71bdabf8",
   "metadata": {},
   "outputs": [],
   "source": [
    "# Set the date for your data partition\n",
    "DATE = \"2025-07-13\"  # Change as needed"
   ]
  },
  {
   "cell_type": "code",
   "execution_count": 11,
   "id": "16a7b18d",
   "metadata": {},
   "outputs": [],
   "source": [
    "dim_clubs_path = Path(f\"../data/cleaned/dim_clubs/{DATE}/dim_clubs.parquet\")\n",
    "dim_game_modes_path = Path(f\"../data/cleaned/dim_game_modes/{DATE}/dim_game_modes.parquet\")\n",
    "dim_maps_path = Path(f\"../data/cleaned/dim_maps/{DATE}/dim_maps.parquet\")\n",
    "dim_players_path = Path(f\"../data/cleaned/dim_players/{DATE}/dim_players.parquet\")\n",
    "fact_matches_path = Path(f\"../data/cleaned/fact_matches/{DATE}/fact_matches.parquet\")"
   ]
  },
  {
   "cell_type": "code",
   "execution_count": 12,
   "id": "2279247e",
   "metadata": {},
   "outputs": [],
   "source": [
    "dim_club_df = pl.read_parquet(dim_clubs_path)\n",
    "dim_game_modes_df = pl.read_parquet(dim_game_modes_path)\n",
    "dim_maps_df = pl.read_parquet(dim_maps_path)\n",
    "dim_players_df = pl.read_parquet(dim_players_path)\n",
    "fact_matches_df = pl.read_parquet(fact_matches_path)"
   ]
  },
  {
   "cell_type": "code",
   "execution_count": 13,
   "id": "9102d6e2",
   "metadata": {},
   "outputs": [
    {
     "data": {
      "text/html": [
       "<div><style>\n",
       ".dataframe > thead > tr,\n",
       ".dataframe > tbody > tr {\n",
       "  text-align: right;\n",
       "  white-space: pre-wrap;\n",
       "}\n",
       "</style>\n",
       "<small>shape: (5, 7)</small><table border=\"1\" class=\"dataframe\"><thead><tr><th>match_id</th><th>battle_time</th><th>player_tag</th><th>club_tag</th><th>event_map</th><th>battle_mode</th><th>battle_result</th></tr><tr><td>str</td><td>str</td><td>str</td><td>str</td><td>str</td><td>str</td><td>str</td></tr></thead><tbody><tr><td>&quot;GQJRYV0JQ_20250713T061819.000Z…</td><td>&quot;20250713T061819.000Z&quot;</td><td>&quot;#GQJRYV0JQ&quot;</td><td>&quot;#80Y22P29J&quot;</td><td>&quot;unknown&quot;</td><td>&quot;hotZone&quot;</td><td>&quot;defeat&quot;</td></tr><tr><td>&quot;GQJRYV0JQ_20250712T191751.000Z…</td><td>&quot;20250712T191751.000Z&quot;</td><td>&quot;#GQJRYV0JQ&quot;</td><td>&quot;#80Y22P29J&quot;</td><td>&quot;unknown&quot;</td><td>&quot;hotZone&quot;</td><td>&quot;victory&quot;</td></tr><tr><td>&quot;GQJRYV0JQ_20250712T191544.000Z…</td><td>&quot;20250712T191544.000Z&quot;</td><td>&quot;#GQJRYV0JQ&quot;</td><td>&quot;#80Y22P29J&quot;</td><td>&quot;unknown&quot;</td><td>&quot;hotZone&quot;</td><td>&quot;victory&quot;</td></tr><tr><td>&quot;GQJRYV0JQ_20250712T190858.000Z…</td><td>&quot;20250712T190858.000Z&quot;</td><td>&quot;#GQJRYV0JQ&quot;</td><td>&quot;#80Y22P29J&quot;</td><td>&quot;unknown&quot;</td><td>&quot;hotZone&quot;</td><td>&quot;defeat&quot;</td></tr><tr><td>&quot;GQJRYV0JQ_20250712T190328.000Z…</td><td>&quot;20250712T190328.000Z&quot;</td><td>&quot;#GQJRYV0JQ&quot;</td><td>&quot;#80Y22P29J&quot;</td><td>&quot;unknown&quot;</td><td>&quot;hotZone&quot;</td><td>&quot;victory&quot;</td></tr></tbody></table></div>"
      ],
      "text/plain": [
       "shape: (5, 7)\n",
       "┌───────────────┬───────────────┬────────────┬────────────┬───────────┬─────────────┬──────────────┐\n",
       "│ match_id      ┆ battle_time   ┆ player_tag ┆ club_tag   ┆ event_map ┆ battle_mode ┆ battle_resul │\n",
       "│ ---           ┆ ---           ┆ ---        ┆ ---        ┆ ---       ┆ ---         ┆ t            │\n",
       "│ str           ┆ str           ┆ str        ┆ str        ┆ str       ┆ str         ┆ ---          │\n",
       "│               ┆               ┆            ┆            ┆           ┆             ┆ str          │\n",
       "╞═══════════════╪═══════════════╪════════════╪════════════╪═══════════╪═════════════╪══════════════╡\n",
       "│ GQJRYV0JQ_202 ┆ 20250713T0618 ┆ #GQJRYV0JQ ┆ #80Y22P29J ┆ unknown   ┆ hotZone     ┆ defeat       │\n",
       "│ 50713T061819. ┆ 19.000Z       ┆            ┆            ┆           ┆             ┆              │\n",
       "│ 000Z…         ┆               ┆            ┆            ┆           ┆             ┆              │\n",
       "│ GQJRYV0JQ_202 ┆ 20250712T1917 ┆ #GQJRYV0JQ ┆ #80Y22P29J ┆ unknown   ┆ hotZone     ┆ victory      │\n",
       "│ 50712T191751. ┆ 51.000Z       ┆            ┆            ┆           ┆             ┆              │\n",
       "│ 000Z…         ┆               ┆            ┆            ┆           ┆             ┆              │\n",
       "│ GQJRYV0JQ_202 ┆ 20250712T1915 ┆ #GQJRYV0JQ ┆ #80Y22P29J ┆ unknown   ┆ hotZone     ┆ victory      │\n",
       "│ 50712T191544. ┆ 44.000Z       ┆            ┆            ┆           ┆             ┆              │\n",
       "│ 000Z…         ┆               ┆            ┆            ┆           ┆             ┆              │\n",
       "│ GQJRYV0JQ_202 ┆ 20250712T1908 ┆ #GQJRYV0JQ ┆ #80Y22P29J ┆ unknown   ┆ hotZone     ┆ defeat       │\n",
       "│ 50712T190858. ┆ 58.000Z       ┆            ┆            ┆           ┆             ┆              │\n",
       "│ 000Z…         ┆               ┆            ┆            ┆           ┆             ┆              │\n",
       "│ GQJRYV0JQ_202 ┆ 20250712T1903 ┆ #GQJRYV0JQ ┆ #80Y22P29J ┆ unknown   ┆ hotZone     ┆ victory      │\n",
       "│ 50712T190328. ┆ 28.000Z       ┆            ┆            ┆           ┆             ┆              │\n",
       "│ 000Z…         ┆               ┆            ┆            ┆           ┆             ┆              │\n",
       "└───────────────┴───────────────┴────────────┴────────────┴───────────┴─────────────┴──────────────┘"
      ]
     },
     "execution_count": 13,
     "metadata": {},
     "output_type": "execute_result"
    }
   ],
   "source": [
    "fact_matches_df.head(5)"
   ]
  },
  {
   "cell_type": "code",
   "execution_count": 14,
   "id": "c498136c",
   "metadata": {},
   "outputs": [
    {
     "data": {
      "text/plain": [
       "Schema([('match_id', String),\n",
       "        ('battle_time', String),\n",
       "        ('player_tag', String),\n",
       "        ('club_tag', String),\n",
       "        ('event_map', String),\n",
       "        ('battle_mode', String),\n",
       "        ('battle_result', String)])"
      ]
     },
     "execution_count": 14,
     "metadata": {},
     "output_type": "execute_result"
    }
   ],
   "source": [
    "fact_matches_df.schema"
   ]
  },
  {
   "cell_type": "code",
   "execution_count": 15,
   "id": "b1408a63",
   "metadata": {},
   "outputs": [
    {
     "data": {
      "text/html": [
       "<div><style>\n",
       ".dataframe > thead > tr,\n",
       ".dataframe > tbody > tr {\n",
       "  text-align: right;\n",
       "  white-space: pre-wrap;\n",
       "}\n",
       "</style>\n",
       "<small>shape: (5, 2)</small><table border=\"1\" class=\"dataframe\"><thead><tr><th>game_mode_id</th><th>game_mode_name</th></tr><tr><td>str</td><td>str</td></tr></thead><tbody><tr><td>&quot;knockout&quot;</td><td>&quot;knockout&quot;</td></tr><tr><td>&quot;basketBrawl&quot;</td><td>&quot;basketBrawl&quot;</td></tr><tr><td>&quot;hotZone&quot;</td><td>&quot;hotZone&quot;</td></tr><tr><td>&quot;wipeout&quot;</td><td>&quot;wipeout&quot;</td></tr><tr><td>&quot;brawlBall&quot;</td><td>&quot;brawlBall&quot;</td></tr></tbody></table></div>"
      ],
      "text/plain": [
       "shape: (5, 2)\n",
       "┌──────────────┬────────────────┐\n",
       "│ game_mode_id ┆ game_mode_name │\n",
       "│ ---          ┆ ---            │\n",
       "│ str          ┆ str            │\n",
       "╞══════════════╪════════════════╡\n",
       "│ knockout     ┆ knockout       │\n",
       "│ basketBrawl  ┆ basketBrawl    │\n",
       "│ hotZone      ┆ hotZone        │\n",
       "│ wipeout      ┆ wipeout        │\n",
       "│ brawlBall    ┆ brawlBall      │\n",
       "└──────────────┴────────────────┘"
      ]
     },
     "execution_count": 15,
     "metadata": {},
     "output_type": "execute_result"
    }
   ],
   "source": [
    "dim_game_modes_df.head()"
   ]
  },
  {
   "cell_type": "code",
   "execution_count": 16,
   "id": "f27a24db",
   "metadata": {},
   "outputs": [
    {
     "data": {
      "text/html": [
       "<div><style>\n",
       ".dataframe > thead > tr,\n",
       ".dataframe > tbody > tr {\n",
       "  text-align: right;\n",
       "  white-space: pre-wrap;\n",
       "}\n",
       "</style>\n",
       "<small>shape: (5, 8)</small><table border=\"1\" class=\"dataframe\"><thead><tr><th>tag</th><th>name</th><th>club_tag</th><th>club_role</th><th>trophies</th><th>highest_trophies</th><th>exp_level</th><th>exp_points</th></tr><tr><td>str</td><td>str</td><td>str</td><td>str</td><td>i64</td><td>i64</td><td>i64</td><td>i64</td></tr></thead><tbody><tr><td>&quot;#9QUU8P8RG&quot;</td><td>&quot;𝔑𝔱𝔥_𝟗𝟒&quot;</td><td>&quot;#80Y22P29J&quot;</td><td>&quot;member&quot;</td><td>93240</td><td>93249</td><td>273</td><td>381659</td></tr><tr><td>&quot;#8UUQLGPVQ&quot;</td><td>&quot;🥹D Rush 🐐✨&quot;</td><td>&quot;#80Y22P29J&quot;</td><td>&quot;member&quot;</td><td>77455</td><td>77461</td><td>208</td><td>222544</td></tr><tr><td>&quot;#2VPRUGRPR&quot;</td><td>&quot;WH|Accid🤍&quot;</td><td>&quot;#80Y22P29J&quot;</td><td>&quot;member&quot;</td><td>100048</td><td>100048</td><td>341</td><td>593021</td></tr><tr><td>&quot;#9JGLU0V8L&quot;</td><td>&quot;JustCrow💤&quot;</td><td>&quot;#80Y22P29J&quot;</td><td>&quot;member&quot;</td><td>75331</td><td>76548</td><td>206</td><td>218937</td></tr><tr><td>&quot;#2GLQLRPJ2&quot;</td><td>&quot;NC |Lulu&quot;</td><td>&quot;#80Y22P29J&quot;</td><td>&quot;member&quot;</td><td>95742</td><td>95744</td><td>294</td><td>439542</td></tr></tbody></table></div>"
      ],
      "text/plain": [
       "shape: (5, 8)\n",
       "┌────────────┬────────────┬────────────┬───────────┬──────────┬────────────┬───────────┬───────────┐\n",
       "│ tag        ┆ name       ┆ club_tag   ┆ club_role ┆ trophies ┆ highest_tr ┆ exp_level ┆ exp_point │\n",
       "│ ---        ┆ ---        ┆ ---        ┆ ---       ┆ ---      ┆ ophies     ┆ ---       ┆ s         │\n",
       "│ str        ┆ str        ┆ str        ┆ str       ┆ i64      ┆ ---        ┆ i64       ┆ ---       │\n",
       "│            ┆            ┆            ┆           ┆          ┆ i64        ┆           ┆ i64       │\n",
       "╞════════════╪════════════╪════════════╪═══════════╪══════════╪════════════╪═══════════╪═══════════╡\n",
       "│ #9QUU8P8RG ┆ 𝔑𝔱𝔥_𝟗𝟒     ┆ #80Y22P29J ┆ member    ┆ 93240    ┆ 93249      ┆ 273       ┆ 381659    │\n",
       "│ #8UUQLGPVQ ┆ 🥹D Rush   ┆ #80Y22P29J ┆ member    ┆ 77455    ┆ 77461      ┆ 208       ┆ 222544    │\n",
       "│            ┆ 🐐✨       ┆            ┆           ┆          ┆            ┆           ┆           │\n",
       "│ #2VPRUGRPR ┆ WH|Accid🤍 ┆ #80Y22P29J ┆ member    ┆ 100048   ┆ 100048     ┆ 341       ┆ 593021    │\n",
       "│ #9JGLU0V8L ┆ JustCrow💤 ┆ #80Y22P29J ┆ member    ┆ 75331    ┆ 76548      ┆ 206       ┆ 218937    │\n",
       "│ #2GLQLRPJ2 ┆ NC |Lulu   ┆ #80Y22P29J ┆ member    ┆ 95742    ┆ 95744      ┆ 294       ┆ 439542    │\n",
       "└────────────┴────────────┴────────────┴───────────┴──────────┴────────────┴───────────┴───────────┘"
      ]
     },
     "execution_count": 16,
     "metadata": {},
     "output_type": "execute_result"
    }
   ],
   "source": [
    "dim_players_df.head()"
   ]
  }
 ],
 "metadata": {
  "kernelspec": {
   "display_name": ".venv",
   "language": "python",
   "name": "python3"
  },
  "language_info": {
   "codemirror_mode": {
    "name": "ipython",
    "version": 3
   },
   "file_extension": ".py",
   "mimetype": "text/x-python",
   "name": "python",
   "nbconvert_exporter": "python",
   "pygments_lexer": "ipython3",
   "version": "3.12.3"
  }
 },
 "nbformat": 4,
 "nbformat_minor": 5
}
