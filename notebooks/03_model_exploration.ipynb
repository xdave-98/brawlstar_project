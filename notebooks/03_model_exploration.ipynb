{
 "cells": [
  {
   "cell_type": "code",
   "execution_count": 1,
   "id": "9ec79d58",
   "metadata": {},
   "outputs": [],
   "source": [
    "import polars as pl\n",
    "from pathlib import Path"
   ]
  },
  {
   "cell_type": "code",
   "execution_count": 2,
   "id": "71bdabf8",
   "metadata": {},
   "outputs": [],
   "source": [
    "# Set the date for your data partition\n",
    "DATE = \"2025-07-14\"  # Change as needed"
   ]
  },
  {
   "cell_type": "code",
   "execution_count": 3,
   "id": "16a7b18d",
   "metadata": {},
   "outputs": [],
   "source": [
    "dim_clubs_path = Path(f\"../data/cleaned/dim_clubs/{DATE}/dim_clubs.parquet\")\n",
    "dim_game_modes_path = Path(\n",
    "    f\"../data/cleaned/dim_game_modes/{DATE}/dim_game_modes.parquet\"\n",
    ")\n",
    "dim_maps_path = Path(f\"../data/cleaned/dim_maps/{DATE}/dim_maps.parquet\")\n",
    "dim_players_path = Path(f\"../data/cleaned/dim_players/{DATE}/dim_players.parquet\")\n",
    "fact_matches_path = Path(f\"../data/cleaned/fact_matches/{DATE}/fact_matches.parquet\")"
   ]
  },
  {
   "cell_type": "code",
   "execution_count": 4,
   "id": "2279247e",
   "metadata": {},
   "outputs": [],
   "source": [
    "dim_club_df = pl.read_parquet(dim_clubs_path)\n",
    "dim_game_modes_df = pl.read_parquet(dim_game_modes_path)\n",
    "dim_maps_df = pl.read_parquet(dim_maps_path)\n",
    "dim_players_df = pl.read_parquet(dim_players_path)\n",
    "fact_matches_df = pl.read_parquet(fact_matches_path)"
   ]
  },
  {
   "cell_type": "code",
   "execution_count": 5,
   "id": "9102d6e2",
   "metadata": {},
   "outputs": [
    {
     "data": {
      "text/html": [
       "<div><style>\n",
       ".dataframe > thead > tr,\n",
       ".dataframe > tbody > tr {\n",
       "  text-align: right;\n",
       "  white-space: pre-wrap;\n",
       "}\n",
       "</style>\n",
       "<small>shape: (5, 8)</small><table border=\"1\" class=\"dataframe\"><thead><tr><th>match_id</th><th>battle_time</th><th>battle_time_date</th><th>player_tag</th><th>club_tag</th><th>map_name</th><th>battle_mode</th><th>battle_result</th></tr><tr><td>str</td><td>datetime[ms]</td><td>date</td><td>str</td><td>str</td><td>str</td><td>str</td><td>str</td></tr></thead><tbody><tr><td>&quot;GQJRYV0JQ-20250713-unknown&quot;</td><td>2025-07-13 06:18:19</td><td>2025-07-13</td><td>&quot;#GQJRYV0JQ&quot;</td><td>&quot;#80Y22P29J&quot;</td><td>&quot;unknown&quot;</td><td>&quot;hotZone&quot;</td><td>&quot;defeat&quot;</td></tr><tr><td>&quot;GQJRYV0JQ-20250712-unknown&quot;</td><td>2025-07-12 19:17:51</td><td>2025-07-12</td><td>&quot;#GQJRYV0JQ&quot;</td><td>&quot;#80Y22P29J&quot;</td><td>&quot;unknown&quot;</td><td>&quot;hotZone&quot;</td><td>&quot;victory&quot;</td></tr><tr><td>&quot;GQJRYV0JQ-20250712-unknown&quot;</td><td>2025-07-12 19:15:44</td><td>2025-07-12</td><td>&quot;#GQJRYV0JQ&quot;</td><td>&quot;#80Y22P29J&quot;</td><td>&quot;unknown&quot;</td><td>&quot;hotZone&quot;</td><td>&quot;victory&quot;</td></tr><tr><td>&quot;GQJRYV0JQ-20250712-unknown&quot;</td><td>2025-07-12 19:08:58</td><td>2025-07-12</td><td>&quot;#GQJRYV0JQ&quot;</td><td>&quot;#80Y22P29J&quot;</td><td>&quot;unknown&quot;</td><td>&quot;hotZone&quot;</td><td>&quot;defeat&quot;</td></tr><tr><td>&quot;GQJRYV0JQ-20250712-unknown&quot;</td><td>2025-07-12 19:03:28</td><td>2025-07-12</td><td>&quot;#GQJRYV0JQ&quot;</td><td>&quot;#80Y22P29J&quot;</td><td>&quot;unknown&quot;</td><td>&quot;hotZone&quot;</td><td>&quot;victory&quot;</td></tr></tbody></table></div>"
      ],
      "text/plain": [
       "shape: (5, 8)\n",
       "┌────────────┬────────────┬────────────┬────────────┬───────────┬──────────┬───────────┬───────────┐\n",
       "│ match_id   ┆ battle_tim ┆ battle_tim ┆ player_tag ┆ club_tag  ┆ map_name ┆ battle_mo ┆ battle_re │\n",
       "│ ---        ┆ e          ┆ e_date     ┆ ---        ┆ ---       ┆ ---      ┆ de        ┆ sult      │\n",
       "│ str        ┆ ---        ┆ ---        ┆ str        ┆ str       ┆ str      ┆ ---       ┆ ---       │\n",
       "│            ┆ datetime[m ┆ date       ┆            ┆           ┆          ┆ str       ┆ str       │\n",
       "│            ┆ s]         ┆            ┆            ┆           ┆          ┆           ┆           │\n",
       "╞════════════╪════════════╪════════════╪════════════╪═══════════╪══════════╪═══════════╪═══════════╡\n",
       "│ GQJRYV0JQ- ┆ 2025-07-13 ┆ 2025-07-13 ┆ #GQJRYV0JQ ┆ #80Y22P29 ┆ unknown  ┆ hotZone   ┆ defeat    │\n",
       "│ 20250713-u ┆ 06:18:19   ┆            ┆            ┆ J         ┆          ┆           ┆           │\n",
       "│ nknown     ┆            ┆            ┆            ┆           ┆          ┆           ┆           │\n",
       "│ GQJRYV0JQ- ┆ 2025-07-12 ┆ 2025-07-12 ┆ #GQJRYV0JQ ┆ #80Y22P29 ┆ unknown  ┆ hotZone   ┆ victory   │\n",
       "│ 20250712-u ┆ 19:17:51   ┆            ┆            ┆ J         ┆          ┆           ┆           │\n",
       "│ nknown     ┆            ┆            ┆            ┆           ┆          ┆           ┆           │\n",
       "│ GQJRYV0JQ- ┆ 2025-07-12 ┆ 2025-07-12 ┆ #GQJRYV0JQ ┆ #80Y22P29 ┆ unknown  ┆ hotZone   ┆ victory   │\n",
       "│ 20250712-u ┆ 19:15:44   ┆            ┆            ┆ J         ┆          ┆           ┆           │\n",
       "│ nknown     ┆            ┆            ┆            ┆           ┆          ┆           ┆           │\n",
       "│ GQJRYV0JQ- ┆ 2025-07-12 ┆ 2025-07-12 ┆ #GQJRYV0JQ ┆ #80Y22P29 ┆ unknown  ┆ hotZone   ┆ defeat    │\n",
       "│ 20250712-u ┆ 19:08:58   ┆            ┆            ┆ J         ┆          ┆           ┆           │\n",
       "│ nknown     ┆            ┆            ┆            ┆           ┆          ┆           ┆           │\n",
       "│ GQJRYV0JQ- ┆ 2025-07-12 ┆ 2025-07-12 ┆ #GQJRYV0JQ ┆ #80Y22P29 ┆ unknown  ┆ hotZone   ┆ victory   │\n",
       "│ 20250712-u ┆ 19:03:28   ┆            ┆            ┆ J         ┆          ┆           ┆           │\n",
       "│ nknown     ┆            ┆            ┆            ┆           ┆          ┆           ┆           │\n",
       "└────────────┴────────────┴────────────┴────────────┴───────────┴──────────┴───────────┴───────────┘"
      ]
     },
     "execution_count": 5,
     "metadata": {},
     "output_type": "execute_result"
    }
   ],
   "source": [
    "fact_matches_df.head(5)"
   ]
  },
  {
   "cell_type": "code",
   "execution_count": 6,
   "id": "c498136c",
   "metadata": {},
   "outputs": [
    {
     "data": {
      "text/plain": [
       "Schema([('match_id', String),\n",
       "        ('battle_time', Datetime(time_unit='ms', time_zone=None)),\n",
       "        ('battle_time_date', Date),\n",
       "        ('player_tag', String),\n",
       "        ('club_tag', String),\n",
       "        ('map_name', String),\n",
       "        ('battle_mode', String),\n",
       "        ('battle_result', String)])"
      ]
     },
     "execution_count": 6,
     "metadata": {},
     "output_type": "execute_result"
    }
   ],
   "source": [
    "fact_matches_df.schema"
   ]
  },
  {
   "cell_type": "code",
   "execution_count": 7,
   "id": "b1408a63",
   "metadata": {},
   "outputs": [
    {
     "data": {
      "text/html": [
       "<div><style>\n",
       ".dataframe > thead > tr,\n",
       ".dataframe > tbody > tr {\n",
       "  text-align: right;\n",
       "  white-space: pre-wrap;\n",
       "}\n",
       "</style>\n",
       "<small>shape: (5, 1)</small><table border=\"1\" class=\"dataframe\"><thead><tr><th>map_name</th></tr><tr><td>str</td></tr></thead><tbody><tr><td>&quot;Flaring Phoenix&quot;</td></tr><tr><td>&quot;Super Beach&quot;</td></tr><tr><td>&quot;Basket Case&quot;</td></tr><tr><td>&quot;Sunny Soccer&quot;</td></tr><tr><td>&quot;Sneaky Fields&quot;</td></tr></tbody></table></div>"
      ],
      "text/plain": [
       "shape: (5, 1)\n",
       "┌─────────────────┐\n",
       "│ map_name        │\n",
       "│ ---             │\n",
       "│ str             │\n",
       "╞═════════════════╡\n",
       "│ Flaring Phoenix │\n",
       "│ Super Beach     │\n",
       "│ Basket Case     │\n",
       "│ Sunny Soccer    │\n",
       "│ Sneaky Fields   │\n",
       "└─────────────────┘"
      ]
     },
     "execution_count": 7,
     "metadata": {},
     "output_type": "execute_result"
    }
   ],
   "source": [
    "dim_maps_df.head()"
   ]
  },
  {
   "cell_type": "code",
   "execution_count": 8,
   "id": "04f7644c",
   "metadata": {},
   "outputs": [
    {
     "data": {
      "text/html": [
       "<div><style>\n",
       ".dataframe > thead > tr,\n",
       ".dataframe > tbody > tr {\n",
       "  text-align: right;\n",
       "  white-space: pre-wrap;\n",
       "}\n",
       "</style>\n",
       "<small>shape: (5, 1)</small><table border=\"1\" class=\"dataframe\"><thead><tr><th>battle_mode</th></tr><tr><td>str</td></tr></thead><tbody><tr><td>&quot;gemGrab&quot;</td></tr><tr><td>&quot;brawlBall&quot;</td></tr><tr><td>&quot;duels&quot;</td></tr><tr><td>&quot;bounty&quot;</td></tr><tr><td>&quot;knockout&quot;</td></tr></tbody></table></div>"
      ],
      "text/plain": [
       "shape: (5, 1)\n",
       "┌─────────────┐\n",
       "│ battle_mode │\n",
       "│ ---         │\n",
       "│ str         │\n",
       "╞═════════════╡\n",
       "│ gemGrab     │\n",
       "│ brawlBall   │\n",
       "│ duels       │\n",
       "│ bounty      │\n",
       "│ knockout    │\n",
       "└─────────────┘"
      ]
     },
     "execution_count": 8,
     "metadata": {},
     "output_type": "execute_result"
    }
   ],
   "source": [
    "dim_game_modes_df.head()"
   ]
  },
  {
   "cell_type": "code",
   "execution_count": 12,
   "id": "75830855",
   "metadata": {},
   "outputs": [
    {
     "data": {
      "text/html": [
       "<div><style>\n",
       ".dataframe > thead > tr,\n",
       ".dataframe > tbody > tr {\n",
       "  text-align: right;\n",
       "  white-space: pre-wrap;\n",
       "}\n",
       "</style>\n",
       "<small>shape: (1, 6)</small><table border=\"1\" class=\"dataframe\"><thead><tr><th>tag</th><th>name</th><th>description</th><th>trophies</th><th>required_trophies</th><th>member_count</th></tr><tr><td>str</td><td>str</td><td>str</td><td>i64</td><td>i64</td><td>i64</td></tr></thead><tbody><tr><td>&quot;#80Y22P29J&quot;</td><td>&quot;Natz Army🇫🇷&quot;</td><td>&quot;Tiktok: Natz&quot;</td><td>2509106</td><td>65000</td><td>29</td></tr></tbody></table></div>"
      ],
      "text/plain": [
       "shape: (1, 6)\n",
       "┌────────────┬─────────────┬──────────────┬──────────┬───────────────────┬──────────────┐\n",
       "│ tag        ┆ name        ┆ description  ┆ trophies ┆ required_trophies ┆ member_count │\n",
       "│ ---        ┆ ---         ┆ ---          ┆ ---      ┆ ---               ┆ ---          │\n",
       "│ str        ┆ str         ┆ str          ┆ i64      ┆ i64               ┆ i64          │\n",
       "╞════════════╪═════════════╪══════════════╪══════════╪═══════════════════╪══════════════╡\n",
       "│ #80Y22P29J ┆ Natz Army🇫🇷 ┆ Tiktok: Natz ┆ 2509106  ┆ 65000             ┆ 29           │\n",
       "└────────────┴─────────────┴──────────────┴──────────┴───────────────────┴──────────────┘"
      ]
     },
     "execution_count": 12,
     "metadata": {},
     "output_type": "execute_result"
    }
   ],
   "source": [
    "dim_club_df.head()"
   ]
  },
  {
   "cell_type": "code",
   "execution_count": 10,
   "id": "09d9953b",
   "metadata": {},
   "outputs": [
    {
     "data": {
      "text/html": [
       "<div><style>\n",
       ".dataframe > thead > tr,\n",
       ".dataframe > tbody > tr {\n",
       "  text-align: right;\n",
       "  white-space: pre-wrap;\n",
       "}\n",
       "</style>\n",
       "<small>shape: (29, 8)</small><table border=\"1\" class=\"dataframe\"><thead><tr><th>tag</th><th>name</th><th>club_tag</th><th>club_role</th><th>trophies</th><th>highest_trophies</th><th>exp_level</th><th>exp_points</th></tr><tr><td>str</td><td>str</td><td>str</td><td>str</td><td>i64</td><td>i64</td><td>i64</td><td>i64</td></tr></thead><tbody><tr><td>&quot;#LUCUGYQLP&quot;</td><td>&quot;cornichonette&quot;</td><td>&quot;#80Y22P29J&quot;</td><td>&quot;member&quot;</td><td>80334</td><td>82139</td><td>222</td><td>251959</td></tr><tr><td>&quot;#9JGLU0V8L&quot;</td><td>&quot;JustCrow💤&quot;</td><td>&quot;#80Y22P29J&quot;</td><td>&quot;member&quot;</td><td>75331</td><td>76548</td><td>206</td><td>218937</td></tr><tr><td>&quot;#9QUU8P8RG&quot;</td><td>&quot;𝔑𝔱𝔥_𝟗𝟒&quot;</td><td>&quot;#80Y22P29J&quot;</td><td>&quot;member&quot;</td><td>93514</td><td>93528</td><td>274</td><td>382223</td></tr><tr><td>&quot;#PY8GQ2Y0U&quot;</td><td>&quot;Matt🩷Draixzz&quot;</td><td>&quot;#80Y22P29J&quot;</td><td>&quot;member&quot;</td><td>67658</td><td>67662</td><td>179</td><td>164846</td></tr><tr><td>&quot;#PJVJG8G&quot;</td><td>&quot;L4yZen_✨&quot;</td><td>&quot;#80Y22P29J&quot;</td><td>&quot;member&quot;</td><td>90698</td><td>90698</td><td>251</td><td>323414</td></tr><tr><td>&hellip;</td><td>&hellip;</td><td>&hellip;</td><td>&hellip;</td><td>&hellip;</td><td>&hellip;</td><td>&hellip;</td><td>&hellip;</td></tr><tr><td>&quot;#G02QL2U2&quot;</td><td>&quot;Chewbee&quot;</td><td>&quot;#80Y22P29J&quot;</td><td>&quot;member&quot;</td><td>93412</td><td>95248</td><td>321</td><td>525136</td></tr><tr><td>&quot;#GLQ90PL92&quot;</td><td>&quot;LB|❦ᶫLͫe manx?⛩&quot;</td><td>&quot;#80Y22P29J&quot;</td><td>&quot;member&quot;</td><td>94206</td><td>100010</td><td>232</td><td>274944</td></tr><tr><td>&quot;#2GLQLRPJ2&quot;</td><td>&quot;NC |Lulu&quot;</td><td>&quot;#80Y22P29J&quot;</td><td>&quot;member&quot;</td><td>95742</td><td>95744</td><td>294</td><td>439542</td></tr><tr><td>&quot;#8C0PLGQRV&quot;</td><td>&quot;DdnSpeak 🐙&quot;</td><td>&quot;#80Y22P29J&quot;</td><td>&quot;member&quot;</td><td>92976</td><td>116666</td><td>391</td><td>777225</td></tr><tr><td>&quot;#RPQJ09GU&quot;</td><td>&quot;Larexさ&quot;</td><td>&quot;#80Y22P29J&quot;</td><td>&quot;vicePresident&quot;</td><td>108401</td><td>108401</td><td>374</td><td>711181</td></tr></tbody></table></div>"
      ],
      "text/plain": [
       "shape: (29, 8)\n",
       "┌────────────┬────────────┬────────────┬────────────┬──────────┬───────────┬───────────┬───────────┐\n",
       "│ tag        ┆ name       ┆ club_tag   ┆ club_role  ┆ trophies ┆ highest_t ┆ exp_level ┆ exp_point │\n",
       "│ ---        ┆ ---        ┆ ---        ┆ ---        ┆ ---      ┆ rophies   ┆ ---       ┆ s         │\n",
       "│ str        ┆ str        ┆ str        ┆ str        ┆ i64      ┆ ---       ┆ i64       ┆ ---       │\n",
       "│            ┆            ┆            ┆            ┆          ┆ i64       ┆           ┆ i64       │\n",
       "╞════════════╪════════════╪════════════╪════════════╪══════════╪═══════════╪═══════════╪═══════════╡\n",
       "│ #LUCUGYQLP ┆ cornichone ┆ #80Y22P29J ┆ member     ┆ 80334    ┆ 82139     ┆ 222       ┆ 251959    │\n",
       "│            ┆ tte        ┆            ┆            ┆          ┆           ┆           ┆           │\n",
       "│ #9JGLU0V8L ┆ JustCrow💤 ┆ #80Y22P29J ┆ member     ┆ 75331    ┆ 76548     ┆ 206       ┆ 218937    │\n",
       "│ #9QUU8P8RG ┆ 𝔑𝔱𝔥_𝟗𝟒     ┆ #80Y22P29J ┆ member     ┆ 93514    ┆ 93528     ┆ 274       ┆ 382223    │\n",
       "│ #PY8GQ2Y0U ┆ Matt🩷Drai ┆ #80Y22P29J ┆ member     ┆ 67658    ┆ 67662     ┆ 179       ┆ 164846    │\n",
       "│            ┆ xzz        ┆            ┆            ┆          ┆           ┆           ┆           │\n",
       "│ #PJVJG8G   ┆ L4yZen_✨  ┆ #80Y22P29J ┆ member     ┆ 90698    ┆ 90698     ┆ 251       ┆ 323414    │\n",
       "│ …          ┆ …          ┆ …          ┆ …          ┆ …        ┆ …         ┆ …         ┆ …         │\n",
       "│ #G02QL2U2  ┆ Chewbee    ┆ #80Y22P29J ┆ member     ┆ 93412    ┆ 95248     ┆ 321       ┆ 525136    │\n",
       "│ #GLQ90PL92 ┆ LB|❦ᶫLͫe    ┆ #80Y22P29J ┆ member     ┆ 94206    ┆ 100010    ┆ 232       ┆ 274944    │\n",
       "│            ┆ manx?⛩     ┆            ┆            ┆          ┆           ┆           ┆           │\n",
       "│ #2GLQLRPJ2 ┆ NC |Lulu   ┆ #80Y22P29J ┆ member     ┆ 95742    ┆ 95744     ┆ 294       ┆ 439542    │\n",
       "│ #8C0PLGQRV ┆ DdnSpeak   ┆ #80Y22P29J ┆ member     ┆ 92976    ┆ 116666    ┆ 391       ┆ 777225    │\n",
       "│            ┆ 🐙         ┆            ┆            ┆          ┆           ┆           ┆           │\n",
       "│ #RPQJ09GU  ┆ Larexさ    ┆ #80Y22P29J ┆ vicePresid ┆ 108401   ┆ 108401    ┆ 374       ┆ 711181    │\n",
       "│            ┆            ┆            ┆ ent        ┆          ┆           ┆           ┆           │\n",
       "└────────────┴────────────┴────────────┴────────────┴──────────┴───────────┴───────────┴───────────┘"
      ]
     },
     "execution_count": 10,
     "metadata": {},
     "output_type": "execute_result"
    }
   ],
   "source": [
    "dim_players_df.head(30)"
   ]
  }
 ],
 "metadata": {
  "kernelspec": {
   "display_name": ".venv",
   "language": "python",
   "name": "python3"
  },
  "language_info": {
   "codemirror_mode": {
    "name": "ipython",
    "version": 3
   },
   "file_extension": ".py",
   "mimetype": "text/x-python",
   "name": "python",
   "nbconvert_exporter": "python",
   "pygments_lexer": "ipython3",
   "version": "3.12.3"
  }
 },
 "nbformat": 4,
 "nbformat_minor": 5
}
