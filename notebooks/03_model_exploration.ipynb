{
 "cells": [
  {
   "cell_type": "code",
   "execution_count": 23,
   "id": "9ec79d58",
   "metadata": {},
   "outputs": [],
   "source": [
    "import polars as pl\n",
    "from pathlib import Path"
   ]
  },
  {
   "cell_type": "code",
   "execution_count": 24,
   "id": "71bdabf8",
   "metadata": {},
   "outputs": [],
   "source": [
    "# Set the date for your data partition\n",
    "DATE = \"2025-07-14\"  # Change as needed"
   ]
  },
  {
   "cell_type": "code",
   "execution_count": 25,
   "id": "16a7b18d",
   "metadata": {},
   "outputs": [],
   "source": [
    "dim_clubs_path = Path(f\"../data/cleaned/dim_clubs/{DATE}/dim_clubs.parquet\")\n",
    "dim_game_modes_path = Path(\n",
    "    f\"../data/cleaned/dim_game_modes/{DATE}/dim_game_modes.parquet\"\n",
    ")\n",
    "dim_maps_path = Path(f\"../data/cleaned/dim_maps/{DATE}/dim_maps.parquet\")\n",
    "dim_players_path = Path(f\"../data/cleaned/dim_players/{DATE}/dim_players.parquet\")\n",
    "fact_matches_path = Path(f\"../data/cleaned/fact_matches/{DATE}/fact_matches.parquet\")"
   ]
  },
  {
   "cell_type": "code",
   "execution_count": 26,
   "id": "2279247e",
   "metadata": {},
   "outputs": [
    {
     "ename": "FileNotFoundError",
     "evalue": "No such file or directory (os error 2): ../data/cleaned/dim_clubs/2025-07-14/dim_clubs.parquet\n\nThis error occurred with the following context stack:\n\t[1] 'parquet scan'\n\t[2] 'sink'\n",
     "output_type": "error",
     "traceback": [
      "\u001b[31m---------------------------------------------------------------------------\u001b[39m",
      "\u001b[31mFileNotFoundError\u001b[39m                         Traceback (most recent call last)",
      "\u001b[36mCell\u001b[39m\u001b[36m \u001b[39m\u001b[32mIn[26]\u001b[39m\u001b[32m, line 1\u001b[39m\n\u001b[32m----> \u001b[39m\u001b[32m1\u001b[39m dim_club_df = \u001b[43mpl\u001b[49m\u001b[43m.\u001b[49m\u001b[43mread_parquet\u001b[49m\u001b[43m(\u001b[49m\u001b[43mdim_clubs_path\u001b[49m\u001b[43m)\u001b[49m\n\u001b[32m      2\u001b[39m dim_game_modes_df = pl.read_parquet(dim_game_modes_path)\n\u001b[32m      3\u001b[39m dim_maps_df = pl.read_parquet(dim_maps_path)\n",
      "\u001b[36mFile \u001b[39m\u001b[32m~/workspace/projects/brawlstar_project/.venv/lib/python3.12/site-packages/polars/_utils/deprecation.py:128\u001b[39m, in \u001b[36mdeprecate_renamed_parameter.<locals>.decorate.<locals>.wrapper\u001b[39m\u001b[34m(*args, **kwargs)\u001b[39m\n\u001b[32m    123\u001b[39m \u001b[38;5;129m@wraps\u001b[39m(function)\n\u001b[32m    124\u001b[39m \u001b[38;5;28;01mdef\u001b[39;00m\u001b[38;5;250m \u001b[39m\u001b[34mwrapper\u001b[39m(*args: P.args, **kwargs: P.kwargs) -> T:\n\u001b[32m    125\u001b[39m     _rename_keyword_argument(\n\u001b[32m    126\u001b[39m         old_name, new_name, kwargs, function.\u001b[34m__qualname__\u001b[39m, version\n\u001b[32m    127\u001b[39m     )\n\u001b[32m--> \u001b[39m\u001b[32m128\u001b[39m     \u001b[38;5;28;01mreturn\u001b[39;00m \u001b[43mfunction\u001b[49m\u001b[43m(\u001b[49m\u001b[43m*\u001b[49m\u001b[43margs\u001b[49m\u001b[43m,\u001b[49m\u001b[43m \u001b[49m\u001b[43m*\u001b[49m\u001b[43m*\u001b[49m\u001b[43mkwargs\u001b[49m\u001b[43m)\u001b[49m\n",
      "\u001b[36mFile \u001b[39m\u001b[32m~/workspace/projects/brawlstar_project/.venv/lib/python3.12/site-packages/polars/_utils/deprecation.py:128\u001b[39m, in \u001b[36mdeprecate_renamed_parameter.<locals>.decorate.<locals>.wrapper\u001b[39m\u001b[34m(*args, **kwargs)\u001b[39m\n\u001b[32m    123\u001b[39m \u001b[38;5;129m@wraps\u001b[39m(function)\n\u001b[32m    124\u001b[39m \u001b[38;5;28;01mdef\u001b[39;00m\u001b[38;5;250m \u001b[39m\u001b[34mwrapper\u001b[39m(*args: P.args, **kwargs: P.kwargs) -> T:\n\u001b[32m    125\u001b[39m     _rename_keyword_argument(\n\u001b[32m    126\u001b[39m         old_name, new_name, kwargs, function.\u001b[34m__qualname__\u001b[39m, version\n\u001b[32m    127\u001b[39m     )\n\u001b[32m--> \u001b[39m\u001b[32m128\u001b[39m     \u001b[38;5;28;01mreturn\u001b[39;00m \u001b[43mfunction\u001b[49m\u001b[43m(\u001b[49m\u001b[43m*\u001b[49m\u001b[43margs\u001b[49m\u001b[43m,\u001b[49m\u001b[43m \u001b[49m\u001b[43m*\u001b[49m\u001b[43m*\u001b[49m\u001b[43mkwargs\u001b[49m\u001b[43m)\u001b[49m\n",
      "\u001b[36mFile \u001b[39m\u001b[32m~/workspace/projects/brawlstar_project/.venv/lib/python3.12/site-packages/polars/io/parquet/functions.py:283\u001b[39m, in \u001b[36mread_parquet\u001b[39m\u001b[34m(source, columns, n_rows, row_index_name, row_index_offset, parallel, use_statistics, hive_partitioning, glob, schema, hive_schema, try_parse_hive_dates, rechunk, low_memory, storage_options, credential_provider, retries, use_pyarrow, pyarrow_options, memory_map, include_file_paths, missing_columns, allow_missing_columns)\u001b[39m\n\u001b[32m    280\u001b[39m     \u001b[38;5;28;01melse\u001b[39;00m:\n\u001b[32m    281\u001b[39m         lf = lf.select(columns)\n\u001b[32m--> \u001b[39m\u001b[32m283\u001b[39m \u001b[38;5;28;01mreturn\u001b[39;00m \u001b[43mlf\u001b[49m\u001b[43m.\u001b[49m\u001b[43mcollect\u001b[49m\u001b[43m(\u001b[49m\u001b[43m)\u001b[49m\n",
      "\u001b[36mFile \u001b[39m\u001b[32m~/workspace/projects/brawlstar_project/.venv/lib/python3.12/site-packages/polars/_utils/deprecation.py:97\u001b[39m, in \u001b[36mdeprecate_streaming_parameter.<locals>.decorate.<locals>.wrapper\u001b[39m\u001b[34m(*args, **kwargs)\u001b[39m\n\u001b[32m     93\u001b[39m         kwargs[\u001b[33m\"\u001b[39m\u001b[33mengine\u001b[39m\u001b[33m\"\u001b[39m] = \u001b[33m\"\u001b[39m\u001b[33min-memory\u001b[39m\u001b[33m\"\u001b[39m\n\u001b[32m     95\u001b[39m     \u001b[38;5;28;01mdel\u001b[39;00m kwargs[\u001b[33m\"\u001b[39m\u001b[33mstreaming\u001b[39m\u001b[33m\"\u001b[39m]\n\u001b[32m---> \u001b[39m\u001b[32m97\u001b[39m \u001b[38;5;28;01mreturn\u001b[39;00m \u001b[43mfunction\u001b[49m\u001b[43m(\u001b[49m\u001b[43m*\u001b[49m\u001b[43margs\u001b[49m\u001b[43m,\u001b[49m\u001b[43m \u001b[49m\u001b[43m*\u001b[49m\u001b[43m*\u001b[49m\u001b[43mkwargs\u001b[49m\u001b[43m)\u001b[49m\n",
      "\u001b[36mFile \u001b[39m\u001b[32m~/workspace/projects/brawlstar_project/.venv/lib/python3.12/site-packages/polars/lazyframe/opt_flags.py:330\u001b[39m, in \u001b[36mforward_old_opt_flags.<locals>.decorate.<locals>.wrapper\u001b[39m\u001b[34m(*args, **kwargs)\u001b[39m\n\u001b[32m    327\u001b[39m         optflags = cb(optflags, kwargs.pop(key))  \u001b[38;5;66;03m# type: ignore[no-untyped-call,unused-ignore]\u001b[39;00m\n\u001b[32m    329\u001b[39m kwargs[\u001b[33m\"\u001b[39m\u001b[33moptimizations\u001b[39m\u001b[33m\"\u001b[39m] = optflags\n\u001b[32m--> \u001b[39m\u001b[32m330\u001b[39m \u001b[38;5;28;01mreturn\u001b[39;00m \u001b[43mfunction\u001b[49m\u001b[43m(\u001b[49m\u001b[43m*\u001b[49m\u001b[43margs\u001b[49m\u001b[43m,\u001b[49m\u001b[43m \u001b[49m\u001b[43m*\u001b[49m\u001b[43m*\u001b[49m\u001b[43mkwargs\u001b[49m\u001b[43m)\u001b[49m\n",
      "\u001b[36mFile \u001b[39m\u001b[32m~/workspace/projects/brawlstar_project/.venv/lib/python3.12/site-packages/polars/lazyframe/frame.py:2332\u001b[39m, in \u001b[36mLazyFrame.collect\u001b[39m\u001b[34m(self, type_coercion, predicate_pushdown, projection_pushdown, simplify_expression, slice_pushdown, comm_subplan_elim, comm_subexpr_elim, cluster_with_columns, collapse_joins, no_optimization, engine, background, optimizations, **_kwargs)\u001b[39m\n\u001b[32m   2330\u001b[39m \u001b[38;5;66;03m# Only for testing purposes\u001b[39;00m\n\u001b[32m   2331\u001b[39m callback = _kwargs.get(\u001b[33m\"\u001b[39m\u001b[33mpost_opt_callback\u001b[39m\u001b[33m\"\u001b[39m, callback)\n\u001b[32m-> \u001b[39m\u001b[32m2332\u001b[39m \u001b[38;5;28;01mreturn\u001b[39;00m wrap_df(\u001b[43mldf\u001b[49m\u001b[43m.\u001b[49m\u001b[43mcollect\u001b[49m\u001b[43m(\u001b[49m\u001b[43mengine\u001b[49m\u001b[43m,\u001b[49m\u001b[43m \u001b[49m\u001b[43mcallback\u001b[49m\u001b[43m)\u001b[49m)\n",
      "\u001b[31mFileNotFoundError\u001b[39m: No such file or directory (os error 2): ../data/cleaned/dim_clubs/2025-07-14/dim_clubs.parquet\n\nThis error occurred with the following context stack:\n\t[1] 'parquet scan'\n\t[2] 'sink'\n"
     ]
    }
   ],
   "source": [
    "dim_club_df = pl.read_parquet(dim_clubs_path)\n",
    "dim_game_modes_df = pl.read_parquet(dim_game_modes_path)\n",
    "dim_maps_df = pl.read_parquet(dim_maps_path)\n",
    "dim_players_df = pl.read_parquet(dim_players_path)\n",
    "fact_matches_df = pl.read_parquet(fact_matches_path)"
   ]
  },
  {
   "cell_type": "code",
   "execution_count": null,
   "id": "9102d6e2",
   "metadata": {},
   "outputs": [
    {
     "data": {
      "text/html": [
       "<div><style>\n",
       ".dataframe > thead > tr,\n",
       ".dataframe > tbody > tr {\n",
       "  text-align: right;\n",
       "  white-space: pre-wrap;\n",
       "}\n",
       "</style>\n",
       "<small>shape: (5, 7)</small><table border=\"1\" class=\"dataframe\"><thead><tr><th>match_id</th><th>battle_time</th><th>player_tag</th><th>club_tag</th><th>map_name</th><th>battle_mode</th><th>battle_result</th></tr><tr><td>str</td><td>str</td><td>str</td><td>str</td><td>str</td><td>str</td><td>str</td></tr></thead><tbody><tr><td>&quot;GQJRYV0JQ_20250713T061819.000Z…</td><td>&quot;20250713T061819.000Z&quot;</td><td>&quot;#GQJRYV0JQ&quot;</td><td>&quot;#80Y22P29J&quot;</td><td>&quot;unknown&quot;</td><td>&quot;hotZone&quot;</td><td>&quot;defeat&quot;</td></tr><tr><td>&quot;GQJRYV0JQ_20250712T191751.000Z…</td><td>&quot;20250712T191751.000Z&quot;</td><td>&quot;#GQJRYV0JQ&quot;</td><td>&quot;#80Y22P29J&quot;</td><td>&quot;unknown&quot;</td><td>&quot;hotZone&quot;</td><td>&quot;victory&quot;</td></tr><tr><td>&quot;GQJRYV0JQ_20250712T191544.000Z…</td><td>&quot;20250712T191544.000Z&quot;</td><td>&quot;#GQJRYV0JQ&quot;</td><td>&quot;#80Y22P29J&quot;</td><td>&quot;unknown&quot;</td><td>&quot;hotZone&quot;</td><td>&quot;victory&quot;</td></tr><tr><td>&quot;GQJRYV0JQ_20250712T190858.000Z…</td><td>&quot;20250712T190858.000Z&quot;</td><td>&quot;#GQJRYV0JQ&quot;</td><td>&quot;#80Y22P29J&quot;</td><td>&quot;unknown&quot;</td><td>&quot;hotZone&quot;</td><td>&quot;defeat&quot;</td></tr><tr><td>&quot;GQJRYV0JQ_20250712T190328.000Z…</td><td>&quot;20250712T190328.000Z&quot;</td><td>&quot;#GQJRYV0JQ&quot;</td><td>&quot;#80Y22P29J&quot;</td><td>&quot;unknown&quot;</td><td>&quot;hotZone&quot;</td><td>&quot;victory&quot;</td></tr></tbody></table></div>"
      ],
      "text/plain": [
       "shape: (5, 7)\n",
       "┌───────────────┬───────────────┬────────────┬────────────┬──────────┬─────────────┬───────────────┐\n",
       "│ match_id      ┆ battle_time   ┆ player_tag ┆ club_tag   ┆ map_name ┆ battle_mode ┆ battle_result │\n",
       "│ ---           ┆ ---           ┆ ---        ┆ ---        ┆ ---      ┆ ---         ┆ ---           │\n",
       "│ str           ┆ str           ┆ str        ┆ str        ┆ str      ┆ str         ┆ str           │\n",
       "╞═══════════════╪═══════════════╪════════════╪════════════╪══════════╪═════════════╪═══════════════╡\n",
       "│ GQJRYV0JQ_202 ┆ 20250713T0618 ┆ #GQJRYV0JQ ┆ #80Y22P29J ┆ unknown  ┆ hotZone     ┆ defeat        │\n",
       "│ 50713T061819. ┆ 19.000Z       ┆            ┆            ┆          ┆             ┆               │\n",
       "│ 000Z…         ┆               ┆            ┆            ┆          ┆             ┆               │\n",
       "│ GQJRYV0JQ_202 ┆ 20250712T1917 ┆ #GQJRYV0JQ ┆ #80Y22P29J ┆ unknown  ┆ hotZone     ┆ victory       │\n",
       "│ 50712T191751. ┆ 51.000Z       ┆            ┆            ┆          ┆             ┆               │\n",
       "│ 000Z…         ┆               ┆            ┆            ┆          ┆             ┆               │\n",
       "│ GQJRYV0JQ_202 ┆ 20250712T1915 ┆ #GQJRYV0JQ ┆ #80Y22P29J ┆ unknown  ┆ hotZone     ┆ victory       │\n",
       "│ 50712T191544. ┆ 44.000Z       ┆            ┆            ┆          ┆             ┆               │\n",
       "│ 000Z…         ┆               ┆            ┆            ┆          ┆             ┆               │\n",
       "│ GQJRYV0JQ_202 ┆ 20250712T1908 ┆ #GQJRYV0JQ ┆ #80Y22P29J ┆ unknown  ┆ hotZone     ┆ defeat        │\n",
       "│ 50712T190858. ┆ 58.000Z       ┆            ┆            ┆          ┆             ┆               │\n",
       "│ 000Z…         ┆               ┆            ┆            ┆          ┆             ┆               │\n",
       "│ GQJRYV0JQ_202 ┆ 20250712T1903 ┆ #GQJRYV0JQ ┆ #80Y22P29J ┆ unknown  ┆ hotZone     ┆ victory       │\n",
       "│ 50712T190328. ┆ 28.000Z       ┆            ┆            ┆          ┆             ┆               │\n",
       "│ 000Z…         ┆               ┆            ┆            ┆          ┆             ┆               │\n",
       "└───────────────┴───────────────┴────────────┴────────────┴──────────┴─────────────┴───────────────┘"
      ]
     },
     "execution_count": 14,
     "metadata": {},
     "output_type": "execute_result"
    }
   ],
   "source": [
    "fact_matches_df.head(5)"
   ]
  },
  {
   "cell_type": "code",
   "execution_count": null,
   "id": "c498136c",
   "metadata": {},
   "outputs": [
    {
     "data": {
      "text/plain": [
       "Schema([('match_id', String),\n",
       "        ('battle_time', String),\n",
       "        ('player_tag', String),\n",
       "        ('club_tag', String),\n",
       "        ('map_name', String),\n",
       "        ('battle_mode', String),\n",
       "        ('battle_result', String)])"
      ]
     },
     "execution_count": 15,
     "metadata": {},
     "output_type": "execute_result"
    }
   ],
   "source": [
    "fact_matches_df.schema"
   ]
  },
  {
   "cell_type": "code",
   "execution_count": null,
   "id": "b1408a63",
   "metadata": {},
   "outputs": [
    {
     "data": {
      "text/html": [
       "<div><style>\n",
       ".dataframe > thead > tr,\n",
       ".dataframe > tbody > tr {\n",
       "  text-align: right;\n",
       "  white-space: pre-wrap;\n",
       "}\n",
       "</style>\n",
       "<small>shape: (5, 1)</small><table border=\"1\" class=\"dataframe\"><thead><tr><th>map_name</th></tr><tr><td>str</td></tr></thead><tbody><tr><td>&quot;unknown&quot;</td></tr><tr><td>&quot;Slapshot Stadium&quot;</td></tr><tr><td>&quot;Block Party&quot;</td></tr><tr><td>&quot;Grass Knot&quot;</td></tr><tr><td>&quot;Rooftop Runners&quot;</td></tr></tbody></table></div>"
      ],
      "text/plain": [
       "shape: (5, 1)\n",
       "┌──────────────────┐\n",
       "│ map_name         │\n",
       "│ ---              │\n",
       "│ str              │\n",
       "╞══════════════════╡\n",
       "│ unknown          │\n",
       "│ Slapshot Stadium │\n",
       "│ Block Party      │\n",
       "│ Grass Knot       │\n",
       "│ Rooftop Runners  │\n",
       "└──────────────────┘"
      ]
     },
     "execution_count": 16,
     "metadata": {},
     "output_type": "execute_result"
    }
   ],
   "source": [
    "dim_maps_df.head()"
   ]
  },
  {
   "cell_type": "code",
   "execution_count": null,
   "id": "04f7644c",
   "metadata": {},
   "outputs": [
    {
     "data": {
      "text/html": [
       "<div><style>\n",
       ".dataframe > thead > tr,\n",
       ".dataframe > tbody > tr {\n",
       "  text-align: right;\n",
       "  white-space: pre-wrap;\n",
       "}\n",
       "</style>\n",
       "<small>shape: (5, 1)</small><table border=\"1\" class=\"dataframe\"><thead><tr><th>battle_mode</th></tr><tr><td>str</td></tr></thead><tbody><tr><td>&quot;duels&quot;</td></tr><tr><td>&quot;brawlBall&quot;</td></tr><tr><td>&quot;basketBrawl&quot;</td></tr><tr><td>&quot;hotZone&quot;</td></tr><tr><td>&quot;gemGrab&quot;</td></tr></tbody></table></div>"
      ],
      "text/plain": [
       "shape: (5, 1)\n",
       "┌─────────────┐\n",
       "│ battle_mode │\n",
       "│ ---         │\n",
       "│ str         │\n",
       "╞═════════════╡\n",
       "│ duels       │\n",
       "│ brawlBall   │\n",
       "│ basketBrawl │\n",
       "│ hotZone     │\n",
       "│ gemGrab     │\n",
       "└─────────────┘"
      ]
     },
     "execution_count": 17,
     "metadata": {},
     "output_type": "execute_result"
    }
   ],
   "source": [
    "dim_game_modes_df.head()"
   ]
  },
  {
   "cell_type": "code",
   "execution_count": null,
   "id": "75830855",
   "metadata": {},
   "outputs": [
    {
     "data": {
      "text/html": [
       "<div><style>\n",
       ".dataframe > thead > tr,\n",
       ".dataframe > tbody > tr {\n",
       "  text-align: right;\n",
       "  white-space: pre-wrap;\n",
       "}\n",
       "</style>\n",
       "<small>shape: (1, 6)</small><table border=\"1\" class=\"dataframe\"><thead><tr><th>club_tag</th><th>club_name</th><th>description</th><th>trophies</th><th>required_trophies</th><th>member_count</th></tr><tr><td>str</td><td>str</td><td>str</td><td>i64</td><td>i64</td><td>i64</td></tr></thead><tbody><tr><td>&quot;#80Y22P29J&quot;</td><td>&quot;Natz Army🇫🇷&quot;</td><td>&quot;Tiktok: Natz&quot;</td><td>2606656</td><td>70000</td><td>30</td></tr></tbody></table></div>"
      ],
      "text/plain": [
       "shape: (1, 6)\n",
       "┌────────────┬─────────────┬──────────────┬──────────┬───────────────────┬──────────────┐\n",
       "│ club_tag   ┆ club_name   ┆ description  ┆ trophies ┆ required_trophies ┆ member_count │\n",
       "│ ---        ┆ ---         ┆ ---          ┆ ---      ┆ ---               ┆ ---          │\n",
       "│ str        ┆ str         ┆ str          ┆ i64      ┆ i64               ┆ i64          │\n",
       "╞════════════╪═════════════╪══════════════╪══════════╪═══════════════════╪══════════════╡\n",
       "│ #80Y22P29J ┆ Natz Army🇫🇷 ┆ Tiktok: Natz ┆ 2606656  ┆ 70000             ┆ 30           │\n",
       "└────────────┴─────────────┴──────────────┴──────────┴───────────────────┴──────────────┘"
      ]
     },
     "execution_count": 18,
     "metadata": {},
     "output_type": "execute_result"
    }
   ],
   "source": [
    "dim_club_df.head()"
   ]
  },
  {
   "cell_type": "code",
   "execution_count": null,
   "id": "09d9953b",
   "metadata": {},
   "outputs": [],
   "source": [
    "dim_players_df.head()"
   ]
  }
 ],
 "metadata": {
  "kernelspec": {
   "display_name": ".venv",
   "language": "python",
   "name": "python3"
  },
  "language_info": {
   "codemirror_mode": {
    "name": "ipython",
    "version": 3
   },
   "file_extension": ".py",
   "mimetype": "text/x-python",
   "name": "python",
   "nbconvert_exporter": "python",
   "pygments_lexer": "ipython3",
   "version": "3.12.3"
  }
 },
 "nbformat": 4,
 "nbformat_minor": 5
}
