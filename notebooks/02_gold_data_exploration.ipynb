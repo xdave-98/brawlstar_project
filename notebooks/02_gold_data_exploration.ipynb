{
 "cells": [
  {
   "cell_type": "code",
   "execution_count": 1,
   "id": "9ec79d58",
   "metadata": {},
   "outputs": [],
   "source": [
    "import polars as pl\n",
    "from pathlib import Path"
   ]
  },
  {
   "cell_type": "code",
   "execution_count": 2,
   "id": "71bdabf8",
   "metadata": {},
   "outputs": [],
   "source": [
    "# Set the date for your data partition\n",
    "DATE = \"2025-07-13\"  # Change as needed"
   ]
  },
  {
   "cell_type": "code",
   "execution_count": 3,
   "id": "16a7b18d",
   "metadata": {},
   "outputs": [],
   "source": [
    "player_path = Path(f\"../data/processed/player/{DATE}/player.parquet\")\n",
    "battlelog_path = Path(f\"../data/processed/player/{DATE}/battlelog.parquet\")\n",
    "club_path = Path(f\"../data/processed/club/{DATE}/club.parquet\")\n",
    "club_members_path = Path(f\"../data/processed/club/{DATE}/club_members.parquet\")"
   ]
  },
  {
   "cell_type": "code",
   "execution_count": 4,
   "id": "2279247e",
   "metadata": {},
   "outputs": [],
   "source": [
    "player_df = pl.read_parquet(player_path)\n",
    "battlelog_df = pl.read_parquet(battlelog_path)\n",
    "club_df = pl.read_parquet(club_path)\n",
    "club_members_df = pl.read_parquet(club_members_path)"
   ]
  },
  {
   "cell_type": "code",
   "execution_count": 5,
   "id": "9102d6e2",
   "metadata": {},
   "outputs": [
    {
     "data": {
      "text/html": [
       "<div><style>\n",
       ".dataframe > thead > tr,\n",
       ".dataframe > tbody > tr {\n",
       "  text-align: right;\n",
       "  white-space: pre-wrap;\n",
       "}\n",
       "</style>\n",
       "<small>shape: (1, 16)</small><table border=\"1\" class=\"dataframe\"><thead><tr><th>battle_time</th><th>event_mode</th><th>event_map</th><th>battle_mode</th><th>battle_type</th><th>battle_result</th><th>battle_duration</th><th>player_tag</th><th>player_name</th><th>brawler_name</th><th>brawler_power</th><th>brawler_trophies</th><th>team_size</th><th>opponent_count</th><th>is_star_player</th><th>extracted_at</th></tr><tr><td>str</td><td>str</td><td>str</td><td>str</td><td>str</td><td>str</td><td>i64</td><td>str</td><td>str</td><td>str</td><td>i64</td><td>i64</td><td>i64</td><td>i64</td><td>bool</td><td>datetime[μs]</td></tr></thead><tbody><tr><td>&quot;20250713T061819.000Z&quot;</td><td>&quot;unknown&quot;</td><td>&quot;unknown&quot;</td><td>&quot;hotZone&quot;</td><td>&quot;ranked&quot;</td><td>&quot;defeat&quot;</td><td>102</td><td>&quot;#GQJRYV0JQ&quot;</td><td>&quot;TT•Samu24bs&quot;</td><td>&quot;MORTIS&quot;</td><td>11</td><td>1000</td><td>3</td><td>3</td><td>false</td><td>2025-07-13 15:21:58.011851</td></tr></tbody></table></div>"
      ],
      "text/plain": [
       "shape: (1, 16)\n",
       "┌───────────┬───────────┬───────────┬───────────┬───┬───────────┬───────────┬───────────┬──────────┐\n",
       "│ battle_ti ┆ event_mod ┆ event_map ┆ battle_mo ┆ … ┆ team_size ┆ opponent_ ┆ is_star_p ┆ extracte │\n",
       "│ me        ┆ e         ┆ ---       ┆ de        ┆   ┆ ---       ┆ count     ┆ layer     ┆ d_at     │\n",
       "│ ---       ┆ ---       ┆ str       ┆ ---       ┆   ┆ i64       ┆ ---       ┆ ---       ┆ ---      │\n",
       "│ str       ┆ str       ┆           ┆ str       ┆   ┆           ┆ i64       ┆ bool      ┆ datetime │\n",
       "│           ┆           ┆           ┆           ┆   ┆           ┆           ┆           ┆ [μs]     │\n",
       "╞═══════════╪═══════════╪═══════════╪═══════════╪═══╪═══════════╪═══════════╪═══════════╪══════════╡\n",
       "│ 20250713T ┆ unknown   ┆ unknown   ┆ hotZone   ┆ … ┆ 3         ┆ 3         ┆ false     ┆ 2025-07- │\n",
       "│ 061819.00 ┆           ┆           ┆           ┆   ┆           ┆           ┆           ┆ 13 15:21 │\n",
       "│ 0Z        ┆           ┆           ┆           ┆   ┆           ┆           ┆           ┆ :58.0118 │\n",
       "│           ┆           ┆           ┆           ┆   ┆           ┆           ┆           ┆ 51       │\n",
       "└───────────┴───────────┴───────────┴───────────┴───┴───────────┴───────────┴───────────┴──────────┘"
      ]
     },
     "execution_count": 5,
     "metadata": {},
     "output_type": "execute_result"
    }
   ],
   "source": [
    "battlelog_df.head(1)"
   ]
  },
  {
   "cell_type": "code",
   "execution_count": 6,
   "id": "336e26b6",
   "metadata": {},
   "outputs": [
    {
     "data": {
      "text/html": [
       "<div><style>\n",
       ".dataframe > thead > tr,\n",
       ".dataframe > tbody > tr {\n",
       "  text-align: right;\n",
       "  white-space: pre-wrap;\n",
       "}\n",
       "</style>\n",
       "<small>shape: (2,)</small><table border=\"1\" class=\"dataframe\"><thead><tr><th>battle_type</th></tr><tr><td>str</td></tr></thead><tbody><tr><td>&quot;ranked&quot;</td></tr><tr><td>&quot;soloRanked&quot;</td></tr></tbody></table></div>"
      ],
      "text/plain": [
       "shape: (2,)\n",
       "Series: 'battle_type' [str]\n",
       "[\n",
       "\t\"ranked\"\n",
       "\t\"soloRanked\"\n",
       "]"
      ]
     },
     "execution_count": 6,
     "metadata": {},
     "output_type": "execute_result"
    }
   ],
   "source": [
    "battlelog_df[\"battle_type\"].unique()"
   ]
  },
  {
   "cell_type": "code",
   "execution_count": 12,
   "id": "66aaec01",
   "metadata": {},
   "outputs": [],
   "source": [
    "winrate_df = (\n",
    "    battlelog_df\n",
    "    .group_by(\"player_tag\")\n",
    "    .agg([\n",
    "        pl.len().alias(\"total_games\"),\n",
    "        pl.col(\"battle_result\").eq(\"victory\").sum().alias(\"wins\"),\n",
    "    ])\n",
    "    .with_columns([\n",
    "        (pl.col(\"wins\") / pl.col(\"total_games\")).alias(\"winrate\")\n",
    "    ])\n",
    ")"
   ]
  },
  {
   "cell_type": "code",
   "execution_count": 13,
   "id": "79329a0a",
   "metadata": {},
   "outputs": [
    {
     "data": {
      "text/html": [
       "<div><style>\n",
       ".dataframe > thead > tr,\n",
       ".dataframe > tbody > tr {\n",
       "  text-align: right;\n",
       "  white-space: pre-wrap;\n",
       "}\n",
       "</style>\n",
       "<small>shape: (28, 4)</small><table border=\"1\" class=\"dataframe\"><thead><tr><th>player_tag</th><th>total_games</th><th>wins</th><th>winrate</th></tr><tr><td>str</td><td>u32</td><td>u32</td><td>f64</td></tr></thead><tbody><tr><td>&quot;#PJVJG8G&quot;</td><td>23</td><td>11</td><td>0.478261</td></tr><tr><td>&quot;#99VRR2P0R&quot;</td><td>4</td><td>3</td><td>0.75</td></tr><tr><td>&quot;#9QUU8P8RG&quot;</td><td>25</td><td>19</td><td>0.76</td></tr><tr><td>&quot;#G02QL2U2&quot;</td><td>9</td><td>4</td><td>0.444444</td></tr><tr><td>&quot;#9VYC8L2RG&quot;</td><td>1</td><td>1</td><td>1.0</td></tr><tr><td>&hellip;</td><td>&hellip;</td><td>&hellip;</td><td>&hellip;</td></tr><tr><td>&quot;#2GLQLRPJ2&quot;</td><td>13</td><td>9</td><td>0.692308</td></tr><tr><td>&quot;#8C0PLGQRV&quot;</td><td>25</td><td>21</td><td>0.84</td></tr><tr><td>&quot;#29QYURCVQ&quot;</td><td>25</td><td>12</td><td>0.48</td></tr><tr><td>&quot;#RPQJ09GU&quot;</td><td>25</td><td>17</td><td>0.68</td></tr><tr><td>&quot;#GLQ90PL92&quot;</td><td>23</td><td>13</td><td>0.565217</td></tr></tbody></table></div>"
      ],
      "text/plain": [
       "shape: (28, 4)\n",
       "┌────────────┬─────────────┬──────┬──────────┐\n",
       "│ player_tag ┆ total_games ┆ wins ┆ winrate  │\n",
       "│ ---        ┆ ---         ┆ ---  ┆ ---      │\n",
       "│ str        ┆ u32         ┆ u32  ┆ f64      │\n",
       "╞════════════╪═════════════╪══════╪══════════╡\n",
       "│ #PJVJG8G   ┆ 23          ┆ 11   ┆ 0.478261 │\n",
       "│ #99VRR2P0R ┆ 4           ┆ 3    ┆ 0.75     │\n",
       "│ #9QUU8P8RG ┆ 25          ┆ 19   ┆ 0.76     │\n",
       "│ #G02QL2U2  ┆ 9           ┆ 4    ┆ 0.444444 │\n",
       "│ #9VYC8L2RG ┆ 1           ┆ 1    ┆ 1.0      │\n",
       "│ …          ┆ …           ┆ …    ┆ …        │\n",
       "│ #2GLQLRPJ2 ┆ 13          ┆ 9    ┆ 0.692308 │\n",
       "│ #8C0PLGQRV ┆ 25          ┆ 21   ┆ 0.84     │\n",
       "│ #29QYURCVQ ┆ 25          ┆ 12   ┆ 0.48     │\n",
       "│ #RPQJ09GU  ┆ 25          ┆ 17   ┆ 0.68     │\n",
       "│ #GLQ90PL92 ┆ 23          ┆ 13   ┆ 0.565217 │\n",
       "└────────────┴─────────────┴──────┴──────────┘"
      ]
     },
     "metadata": {},
     "output_type": "display_data"
    }
   ],
   "source": [
    "display(winrate_df)"
   ]
  },
  {
   "cell_type": "code",
   "execution_count": null,
   "id": "a3835ef3",
   "metadata": {},
   "outputs": [
    {
     "data": {
      "text/plain": [
       "Schema([('tag', String),\n",
       "        ('name', String),\n",
       "        ('name_color', String),\n",
       "        ('trophies', Int64),\n",
       "        ('highest_trophies', Int64),\n",
       "        ('exp_level', Int64),\n",
       "        ('exp_points', Int64),\n",
       "        ('three_vs_three_victories', Int64),\n",
       "        ('solo_victories', Int64),\n",
       "        ('duo_victories', Int64),\n",
       "        ('best_robo_rumble_time', Int64),\n",
       "        ('best_time_as_big_brawler', Int64),\n",
       "        ('club_name', String),\n",
       "        ('club_tag', String),\n",
       "        ('total_brawlers', Int64),\n",
       "        ('maxed_brawlers', Int64),\n",
       "        ('total_brawler_trophies', Int64),\n",
       "        ('extracted_at', Datetime(time_unit='us', time_zone=None))])"
      ]
     },
     "metadata": {},
     "output_type": "display_data"
    }
   ],
   "source": []
  },
  {
   "cell_type": "code",
   "execution_count": null,
   "id": "18670d00",
   "metadata": {},
   "outputs": [
    {
     "data": {
      "text/plain": [
       "Schema([('tag', String),\n",
       "        ('name', String),\n",
       "        ('name_color', String),\n",
       "        ('trophies', Int64),\n",
       "        ('highest_trophies', Int64),\n",
       "        ('exp_level', Int64),\n",
       "        ('exp_points', Int64),\n",
       "        ('three_vs_three_victories', Int64),\n",
       "        ('solo_victories', Int64),\n",
       "        ('duo_victories', Int64),\n",
       "        ('best_robo_rumble_time', Int64),\n",
       "        ('best_time_as_big_brawler', Int64),\n",
       "        ('club_name', String),\n",
       "        ('club_tag', String),\n",
       "        ('total_brawlers', Int64),\n",
       "        ('maxed_brawlers', Int64),\n",
       "        ('total_brawler_trophies', Int64),\n",
       "        ('extracted_at', Datetime(time_unit='us', time_zone=None))])"
      ]
     },
     "metadata": {},
     "output_type": "display_data"
    }
   ],
   "source": []
  },
  {
   "cell_type": "code",
   "execution_count": null,
   "id": "8669936e",
   "metadata": {},
   "outputs": [
    {
     "data": {
      "text/plain": [
       "Schema([('tag', String),\n",
       "        ('name', String),\n",
       "        ('name_color', String),\n",
       "        ('trophies', Int64),\n",
       "        ('highest_trophies', Int64),\n",
       "        ('exp_level', Int64),\n",
       "        ('exp_points', Int64),\n",
       "        ('three_vs_three_victories', Int64),\n",
       "        ('solo_victories', Int64),\n",
       "        ('duo_victories', Int64),\n",
       "        ('best_robo_rumble_time', Int64),\n",
       "        ('best_time_as_big_brawler', Int64),\n",
       "        ('club_name', String),\n",
       "        ('club_tag', String),\n",
       "        ('total_brawlers', Int64),\n",
       "        ('maxed_brawlers', Int64),\n",
       "        ('total_brawler_trophies', Int64),\n",
       "        ('extracted_at', Datetime(time_unit='us', time_zone=None))])"
      ]
     },
     "metadata": {},
     "output_type": "display_data"
    }
   ],
   "source": []
  },
  {
   "cell_type": "code",
   "execution_count": null,
   "id": "0a6a66cc",
   "metadata": {},
   "outputs": [
    {
     "data": {
      "text/plain": [
       "Schema([('tag', String),\n",
       "        ('name', String),\n",
       "        ('name_color', String),\n",
       "        ('trophies', Int64),\n",
       "        ('highest_trophies', Int64),\n",
       "        ('exp_level', Int64),\n",
       "        ('exp_points', Int64),\n",
       "        ('three_vs_three_victories', Int64),\n",
       "        ('solo_victories', Int64),\n",
       "        ('duo_victories', Int64),\n",
       "        ('best_robo_rumble_time', Int64),\n",
       "        ('best_time_as_big_brawler', Int64),\n",
       "        ('club_name', String),\n",
       "        ('club_tag', String),\n",
       "        ('total_brawlers', Int64),\n",
       "        ('maxed_brawlers', Int64),\n",
       "        ('total_brawler_trophies', Int64),\n",
       "        ('extracted_at', Datetime(time_unit='us', time_zone=None))])"
      ]
     },
     "metadata": {},
     "output_type": "display_data"
    }
   ],
   "source": []
  },
  {
   "cell_type": "code",
   "execution_count": null,
   "id": "4f4199e2",
   "metadata": {},
   "outputs": [
    {
     "data": {
      "text/plain": [
       "Schema([('tag', String),\n",
       "        ('name', String),\n",
       "        ('name_color', String),\n",
       "        ('trophies', Int64),\n",
       "        ('highest_trophies', Int64),\n",
       "        ('exp_level', Int64),\n",
       "        ('exp_points', Int64),\n",
       "        ('three_vs_three_victories', Int64),\n",
       "        ('solo_victories', Int64),\n",
       "        ('duo_victories', Int64),\n",
       "        ('best_robo_rumble_time', Int64),\n",
       "        ('best_time_as_big_brawler', Int64),\n",
       "        ('club_name', String),\n",
       "        ('club_tag', String),\n",
       "        ('total_brawlers', Int64),\n",
       "        ('maxed_brawlers', Int64),\n",
       "        ('total_brawler_trophies', Int64),\n",
       "        ('extracted_at', Datetime(time_unit='us', time_zone=None))])"
      ]
     },
     "metadata": {},
     "output_type": "display_data"
    }
   ],
   "source": []
  },
  {
   "cell_type": "code",
   "execution_count": null,
   "id": "39d7eb6e",
   "metadata": {},
   "outputs": [
    {
     "data": {
      "text/plain": [
       "Schema([('tag', String),\n",
       "        ('name', String),\n",
       "        ('name_color', String),\n",
       "        ('trophies', Int64),\n",
       "        ('highest_trophies', Int64),\n",
       "        ('exp_level', Int64),\n",
       "        ('exp_points', Int64),\n",
       "        ('three_vs_three_victories', Int64),\n",
       "        ('solo_victories', Int64),\n",
       "        ('duo_victories', Int64),\n",
       "        ('best_robo_rumble_time', Int64),\n",
       "        ('best_time_as_big_brawler', Int64),\n",
       "        ('club_name', String),\n",
       "        ('club_tag', String),\n",
       "        ('total_brawlers', Int64),\n",
       "        ('maxed_brawlers', Int64),\n",
       "        ('total_brawler_trophies', Int64),\n",
       "        ('extracted_at', Datetime(time_unit='us', time_zone=None))])"
      ]
     },
     "metadata": {},
     "output_type": "display_data"
    }
   ],
   "source": []
  },
  {
   "cell_type": "code",
   "execution_count": null,
   "id": "897a9bd5",
   "metadata": {},
   "outputs": [
    {
     "data": {
      "text/plain": [
       "Schema([('tag', String),\n",
       "        ('name', String),\n",
       "        ('name_color', String),\n",
       "        ('trophies', Int64),\n",
       "        ('highest_trophies', Int64),\n",
       "        ('exp_level', Int64),\n",
       "        ('exp_points', Int64),\n",
       "        ('three_vs_three_victories', Int64),\n",
       "        ('solo_victories', Int64),\n",
       "        ('duo_victories', Int64),\n",
       "        ('best_robo_rumble_time', Int64),\n",
       "        ('best_time_as_big_brawler', Int64),\n",
       "        ('club_name', String),\n",
       "        ('club_tag', String),\n",
       "        ('total_brawlers', Int64),\n",
       "        ('maxed_brawlers', Int64),\n",
       "        ('total_brawler_trophies', Int64),\n",
       "        ('extracted_at', Datetime(time_unit='us', time_zone=None))])"
      ]
     },
     "metadata": {},
     "output_type": "display_data"
    }
   ],
   "source": []
  },
  {
   "cell_type": "code",
   "execution_count": null,
   "id": "e82b3a0c",
   "metadata": {},
   "outputs": [
    {
     "data": {
      "text/plain": [
       "Schema([('tag', String),\n",
       "        ('name', String),\n",
       "        ('name_color', String),\n",
       "        ('trophies', Int64),\n",
       "        ('highest_trophies', Int64),\n",
       "        ('exp_level', Int64),\n",
       "        ('exp_points', Int64),\n",
       "        ('three_vs_three_victories', Int64),\n",
       "        ('solo_victories', Int64),\n",
       "        ('duo_victories', Int64),\n",
       "        ('best_robo_rumble_time', Int64),\n",
       "        ('best_time_as_big_brawler', Int64),\n",
       "        ('club_name', String),\n",
       "        ('club_tag', String),\n",
       "        ('total_brawlers', Int64),\n",
       "        ('maxed_brawlers', Int64),\n",
       "        ('total_brawler_trophies', Int64),\n",
       "        ('extracted_at', Datetime(time_unit='us', time_zone=None))])"
      ]
     },
     "metadata": {},
     "output_type": "display_data"
    }
   ],
   "source": []
  },
  {
   "cell_type": "code",
   "execution_count": null,
   "id": "03bfe961",
   "metadata": {},
   "outputs": [],
   "source": [
    "display(winrate_df)"
   ]
  },
  {
   "cell_type": "code",
   "execution_count": 8,
   "id": "c0381a5a",
   "metadata": {},
   "outputs": [
    {
     "data": {
      "text/html": [
       "<div><style>\n",
       ".dataframe > thead > tr,\n",
       ".dataframe > tbody > tr {\n",
       "  text-align: right;\n",
       "  white-space: pre-wrap;\n",
       "}\n",
       "</style>\n",
       "<small>shape: (28,)</small><table border=\"1\" class=\"dataframe\"><thead><tr><th>player_tag</th></tr><tr><td>str</td></tr></thead><tbody><tr><td>&quot;#29QYURCVQ&quot;</td></tr><tr><td>&quot;#P0JPG0PGJ&quot;</td></tr><tr><td>&quot;#PC0PPLRU&quot;</td></tr><tr><td>&quot;#GCCYL880J&quot;</td></tr><tr><td>&quot;#LUCUGYQLP&quot;</td></tr><tr><td>&hellip;</td></tr><tr><td>&quot;#PJPPLVRU&quot;</td></tr><tr><td>&quot;#GLQ90PL92&quot;</td></tr><tr><td>&quot;#G02QL2U2&quot;</td></tr><tr><td>&quot;#GQJRYV0JQ&quot;</td></tr><tr><td>&quot;#2L8U99UGJ&quot;</td></tr></tbody></table></div>"
      ],
      "text/plain": [
       "shape: (28,)\n",
       "Series: 'player_tag' [str]\n",
       "[\n",
       "\t\"#29QYURCVQ\"\n",
       "\t\"#P0JPG0PGJ\"\n",
       "\t\"#PC0PPLRU\"\n",
       "\t\"#GCCYL880J\"\n",
       "\t\"#LUCUGYQLP\"\n",
       "\t…\n",
       "\t\"#PJPPLVRU\"\n",
       "\t\"#GLQ90PL92\"\n",
       "\t\"#G02QL2U2\"\n",
       "\t\"#GQJRYV0JQ\"\n",
       "\t\"#2L8U99UGJ\"\n",
       "]"
      ]
     },
     "execution_count": 8,
     "metadata": {},
     "output_type": "execute_result"
    }
   ],
   "source": [
    "battlelog_df[\"player_tag\"].unique()"
   ]
  }
 ],
 "metadata": {
  "kernelspec": {
   "display_name": ".venv",
   "language": "python",
   "name": "python3"
  },
  "language_info": {
   "codemirror_mode": {
    "name": "ipython",
    "version": 3
   },
   "file_extension": ".py",
   "mimetype": "text/x-python",
   "name": "python",
   "nbconvert_exporter": "python",
   "pygments_lexer": "ipython3",
   "version": "3.12.3"
  }
 },
 "nbformat": 4,
 "nbformat_minor": 5
}
